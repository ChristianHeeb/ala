{
 "cells": [
  {
   "cell_type": "markdown",
   "source": [
    "# Eigenwerte und Eigenvektoren mit Python\n"
   ],
   "metadata": {
    "collapsed": false
   }
  },
  {
   "cell_type": "code",
   "execution_count": 14,
   "outputs": [],
   "source": [
    "import sympy as sp"
   ],
   "metadata": {
    "collapsed": false,
    "ExecuteTime": {
     "end_time": "2023-05-05T12:37:19.775098Z",
     "start_time": "2023-05-05T12:37:19.453413Z"
    }
   }
  },
  {
   "cell_type": "markdown",
   "source": [
    "### Beispiel mit Sympy"
   ],
   "metadata": {
    "collapsed": false
   }
  },
  {
   "cell_type": "code",
   "execution_count": 15,
   "outputs": [
    {
     "data": {
      "text/plain": "Matrix([\n[2, 0, 0],\n[1, 2, 3],\n[1, 0, 5]])",
      "text/latex": "$\\displaystyle \\left[\\begin{matrix}2 & 0 & 0\\\\1 & 2 & 3\\\\1 & 0 & 5\\end{matrix}\\right]$"
     },
     "execution_count": 15,
     "metadata": {},
     "output_type": "execute_result"
    }
   ],
   "source": [
    "#Matrix A erstellen\n",
    "A = sp.Matrix([[2,0,0],[1,2,3], [1,0,5]])\n",
    "A"
   ],
   "metadata": {
    "collapsed": false,
    "ExecuteTime": {
     "end_time": "2023-05-05T12:37:19.779186Z",
     "start_time": "2023-05-05T12:37:19.776652Z"
    }
   }
  },
  {
   "cell_type": "code",
   "execution_count": 16,
   "outputs": [
    {
     "data": {
      "text/plain": "{2: 2, 5: 1}"
     },
     "execution_count": 16,
     "metadata": {},
     "output_type": "execute_result"
    }
   ],
   "source": [
    "#Eigenwerte auslesen\n",
    "A.eigenvals()"
   ],
   "metadata": {
    "collapsed": false,
    "ExecuteTime": {
     "end_time": "2023-05-05T12:37:19.782138Z",
     "start_time": "2023-05-05T12:37:19.779302Z"
    }
   }
  },
  {
   "cell_type": "markdown",
   "source": [
    "Sympy gibt zusätzlich zu den Eigenwerten auch die Algebraische Vielfachheit aus.\n",
    "2 hat eine Algebraische Vielfachheit von 2 und 5 hat die Algebraische Vielfachheit von 1\n"
   ],
   "metadata": {
    "collapsed": false
   }
  },
  {
   "cell_type": "markdown",
   "source": [
    "Weitere Beispiele"
   ],
   "metadata": {
    "collapsed": false
   }
  },
  {
   "cell_type": "code",
   "execution_count": 17,
   "outputs": [
    {
     "data": {
      "text/plain": "[(2,\n  2,\n  [Matrix([\n   [0],\n   [1],\n   [0]]),\n   Matrix([\n   [-3],\n   [ 0],\n   [ 1]])]),\n (5,\n  1,\n  [Matrix([\n   [0],\n   [1],\n   [1]])])]"
     },
     "execution_count": 17,
     "metadata": {},
     "output_type": "execute_result"
    }
   ],
   "source": [
    "#Eigenvektoren\n",
    "A.eigenvects()"
   ],
   "metadata": {
    "collapsed": false,
    "ExecuteTime": {
     "end_time": "2023-05-05T12:37:19.788037Z",
     "start_time": "2023-05-05T12:37:19.784444Z"
    }
   }
  },
  {
   "cell_type": "markdown",
   "source": [
    "Für 2 gibt es 2 Eigenvektoren [0,1,0], [-3,0,1] und für 5 gibt es einen Eigenvektor [0,1,1]"
   ],
   "metadata": {
    "collapsed": false
   }
  },
  {
   "cell_type": "code",
   "execution_count": 18,
   "outputs": [
    {
     "data": {
      "text/plain": "Matrix([\n[0, -3, 0],\n[1,  0, 1],\n[0,  1, 1]])",
      "text/latex": "$\\displaystyle \\left[\\begin{matrix}0 & -3 & 0\\\\1 & 0 & 1\\\\0 & 1 & 1\\end{matrix}\\right]$"
     },
     "execution_count": 18,
     "metadata": {},
     "output_type": "execute_result"
    }
   ],
   "source": [
    "#Diagonalisierung\n",
    "V,D = A.diagonalize()\n",
    "V"
   ],
   "metadata": {
    "collapsed": false,
    "ExecuteTime": {
     "end_time": "2023-05-05T12:37:19.792587Z",
     "start_time": "2023-05-05T12:37:19.790161Z"
    }
   }
  },
  {
   "cell_type": "code",
   "execution_count": 19,
   "outputs": [
    {
     "data": {
      "text/plain": "Matrix([\n[2, 0, 0],\n[0, 2, 0],\n[0, 0, 5]])",
      "text/latex": "$\\displaystyle \\left[\\begin{matrix}2 & 0 & 0\\\\0 & 2 & 0\\\\0 & 0 & 5\\end{matrix}\\right]$"
     },
     "execution_count": 19,
     "metadata": {},
     "output_type": "execute_result"
    }
   ],
   "source": [
    "D"
   ],
   "metadata": {
    "collapsed": false,
    "ExecuteTime": {
     "end_time": "2023-05-05T12:37:19.795551Z",
     "start_time": "2023-05-05T12:37:19.793368Z"
    }
   }
  },
  {
   "cell_type": "markdown",
   "source": [
    "Gibt Matrix V mit den Eigenvektoren und Matrix D mit den Eigenwerten auf der Diagonale angeordnet"
   ],
   "metadata": {
    "collapsed": false
   }
  },
  {
   "cell_type": "code",
   "execution_count": 20,
   "outputs": [
    {
     "data": {
      "text/plain": "Matrix([\n[-1/3, 1, -1],\n[-1/3, 0,  0],\n[ 1/3, 0,  1]])",
      "text/latex": "$\\displaystyle \\left[\\begin{matrix}- \\frac{1}{3} & 1 & -1\\\\- \\frac{1}{3} & 0 & 0\\\\\\frac{1}{3} & 0 & 1\\end{matrix}\\right]$"
     },
     "execution_count": 20,
     "metadata": {},
     "output_type": "execute_result"
    }
   ],
   "source": [
    "#Diagonalisierbarkeit prüfen mithilfe der Inverse\n",
    "V_inv = V.inv()\n",
    "V_inv"
   ],
   "metadata": {
    "collapsed": false,
    "ExecuteTime": {
     "end_time": "2023-05-05T12:37:19.812456Z",
     "start_time": "2023-05-05T12:37:19.796640Z"
    }
   }
  },
  {
   "cell_type": "code",
   "execution_count": 21,
   "outputs": [
    {
     "data": {
      "text/plain": "Matrix([\n[2, 0, 0],\n[0, 2, 0],\n[0, 0, 5]])",
      "text/latex": "$\\displaystyle \\left[\\begin{matrix}2 & 0 & 0\\\\0 & 2 & 0\\\\0 & 0 & 5\\end{matrix}\\right]$"
     },
     "execution_count": 21,
     "metadata": {},
     "output_type": "execute_result"
    }
   ],
   "source": [
    "#Matrix D erstellen (@ dient als Produktzeichen in Sympy)\n",
    "V_inv@A@V"
   ],
   "metadata": {
    "collapsed": false,
    "ExecuteTime": {
     "end_time": "2023-05-05T12:37:19.812645Z",
     "start_time": "2023-05-05T12:37:19.799508Z"
    }
   }
  },
  {
   "cell_type": "markdown",
   "source": [
    "# Beispiel mit Numpy\n"
   ],
   "metadata": {
    "collapsed": false
   }
  },
  {
   "cell_type": "code",
   "execution_count": 73,
   "outputs": [],
   "source": [
    "import numpy as np\n",
    "from matplotlib import pyplot as plt\n",
    "import timeit"
   ],
   "metadata": {
    "collapsed": false,
    "ExecuteTime": {
     "end_time": "2023-05-05T13:07:15.052733Z",
     "start_time": "2023-05-05T13:07:15.041539Z"
    }
   }
  },
  {
   "cell_type": "code",
   "execution_count": 23,
   "outputs": [
    {
     "data": {
      "text/plain": "array([[2, 0, 0],\n       [1, 2, 3],\n       [1, 0, 5]])"
     },
     "execution_count": 23,
     "metadata": {},
     "output_type": "execute_result"
    }
   ],
   "source": [
    "#Matrix A erstellen\n",
    "A = np.array([[2,0,0],[1,2,3],[1,0,5]])\n",
    "A"
   ],
   "metadata": {
    "collapsed": false,
    "ExecuteTime": {
     "end_time": "2023-05-05T12:37:19.812890Z",
     "start_time": "2023-05-05T12:37:19.806227Z"
    }
   }
  },
  {
   "cell_type": "code",
   "execution_count": 24,
   "outputs": [],
   "source": [
    "eVal, eVec = np.linalg.eig(A)"
   ],
   "metadata": {
    "collapsed": false,
    "ExecuteTime": {
     "end_time": "2023-05-05T12:37:19.812953Z",
     "start_time": "2023-05-05T12:37:19.808996Z"
    }
   }
  },
  {
   "cell_type": "code",
   "execution_count": 25,
   "outputs": [
    {
     "data": {
      "text/plain": "array([2., 5., 2.])"
     },
     "execution_count": 25,
     "metadata": {},
     "output_type": "execute_result"
    }
   ],
   "source": [
    "#Eigenwerte auslesen\n",
    "eVal"
   ],
   "metadata": {
    "collapsed": false,
    "ExecuteTime": {
     "end_time": "2023-05-05T12:37:19.818446Z",
     "start_time": "2023-05-05T12:37:19.811550Z"
    }
   }
  },
  {
   "cell_type": "code",
   "execution_count": 26,
   "outputs": [
    {
     "data": {
      "text/plain": "array([[ 0.        ,  0.        ,  0.94208241],\n       [ 1.        ,  0.70710678, -0.1177603 ],\n       [ 0.        ,  0.70710678, -0.31402747]])"
     },
     "execution_count": 26,
     "metadata": {},
     "output_type": "execute_result"
    }
   ],
   "source": [
    "#Eigenvektoren auslesen\n",
    "eVec"
   ],
   "metadata": {
    "collapsed": false,
    "ExecuteTime": {
     "end_time": "2023-05-05T12:37:19.818678Z",
     "start_time": "2023-05-05T12:37:19.814641Z"
    }
   }
  },
  {
   "cell_type": "markdown",
   "source": [
    "# Übungen aus LE1"
   ],
   "metadata": {
    "collapsed": false
   }
  },
  {
   "cell_type": "markdown",
   "source": [
    "### Aufgabe 15\n",
    "\n",
    "<img src=\"/Users/christianheeb/Library/CloudStorage/OneDrive-Persönlich/02_Ausbildung/01_Bachelor Data Science/2. Semester/08_ala/ala_python/Bilder/Aufgabe15.jpg\"  width=\"1000\">"
   ],
   "metadata": {
    "collapsed": false
   }
  },
  {
   "cell_type": "code",
   "execution_count": 83,
   "outputs": [
    {
     "data": {
      "text/plain": "array([[ 89,  75,  22, 102],\n       [ 75, 116,  27, 120],\n       [ 22,  27,  33,  62],\n       [102, 120,  62, 200]])"
     },
     "execution_count": 83,
     "metadata": {},
     "output_type": "execute_result"
    }
   ],
   "source": [
    "# (a) Berechnen Sie die Eigenvektoren und Eigenwerte von A und geben Sie sie aus.\n",
    "A = np.array([[89,75,22,102],[75,116,27,120],[22,27,33,62],[102,120,62,200]])\n",
    "A"
   ],
   "metadata": {
    "collapsed": false,
    "ExecuteTime": {
     "end_time": "2023-05-05T13:18:19.921947Z",
     "start_time": "2023-05-05T13:18:19.918922Z"
    }
   }
  },
  {
   "cell_type": "code",
   "execution_count": 65,
   "outputs": [],
   "source": [
    "# Eigenwerte\n",
    "ew, ev = np.linalg.eig(A)"
   ],
   "metadata": {
    "collapsed": false,
    "ExecuteTime": {
     "end_time": "2023-05-05T13:00:23.866623Z",
     "start_time": "2023-05-05T13:00:23.852457Z"
    }
   }
  },
  {
   "cell_type": "code",
   "execution_count": 55,
   "outputs": [
    {
     "data": {
      "text/plain": "array([361.75382302,  42.74593101,  26.33718907,   7.16305691])"
     },
     "execution_count": 55,
     "metadata": {},
     "output_type": "execute_result"
    }
   ],
   "source": [
    "ew"
   ],
   "metadata": {
    "collapsed": false,
    "ExecuteTime": {
     "end_time": "2023-05-05T12:57:57.704675Z",
     "start_time": "2023-05-05T12:57:57.699306Z"
    }
   }
  },
  {
   "cell_type": "code",
   "execution_count": 66,
   "outputs": [
    {
     "data": {
      "text/plain": "array([[-0.42552429, -0.42476765,  0.76464379, -0.23199439],\n       [-0.50507589, -0.54267519, -0.64193252, -0.19576676],\n       [-0.20612674,  0.54869183, -0.05515612, -0.80833585],\n       [-0.72203822,  0.4733005 ,  0.01415338,  0.50442752]])"
     },
     "execution_count": 66,
     "metadata": {},
     "output_type": "execute_result"
    }
   ],
   "source": [
    "ev"
   ],
   "metadata": {
    "collapsed": false,
    "ExecuteTime": {
     "end_time": "2023-05-05T13:00:34.045267Z",
     "start_time": "2023-05-05T13:00:34.031767Z"
    }
   }
  },
  {
   "cell_type": "code",
   "execution_count": 68,
   "outputs": [
    {
     "data": {
      "text/plain": "array([[ 1.,  0., -0., -0.],\n       [ 0.,  1.,  0., -0.],\n       [-0.,  0.,  1., -0.],\n       [-0., -0., -0.,  1.]])"
     },
     "execution_count": 68,
     "metadata": {},
     "output_type": "execute_result"
    }
   ],
   "source": [
    "# (b) Zeigen Sie, dass die einzelnen Eigenvektoren orthogonal zueinander sind. Warum ist das so?\n",
    "np.round( np.dot( ev.T, ev ), 10 )"
   ],
   "metadata": {
    "collapsed": false,
    "ExecuteTime": {
     "end_time": "2023-05-05T13:03:15.591594Z",
     "start_time": "2023-05-05T13:03:15.577248Z"
    }
   }
  },
  {
   "cell_type": "markdown",
   "source": [
    "Die Eigenvektoren stehen orthogonal zueinander, weil die Matrix A symmetrisch ist"
   ],
   "metadata": {
    "collapsed": false
   }
  },
  {
   "cell_type": "code",
   "execution_count": 69,
   "outputs": [
    {
     "data": {
      "text/plain": "array([[361.75382302,   0.        ,  -0.        ,   0.        ],\n       [  0.        ,  42.74593101,   0.        ,   0.        ],\n       [  0.        ,  -0.        ,  26.33718907,  -0.        ],\n       [  0.        ,   0.        ,  -0.        ,   7.16305691]])"
     },
     "execution_count": 69,
     "metadata": {},
     "output_type": "execute_result"
    }
   ],
   "source": [
    "# (c) Erstellen Sie eine Matrix V aus den Eigenvektoren von A und diagonalisieren Sie damit die Matrix A.\n",
    "V = ev\n",
    "Vinv = np.linalg.inv(V)\n",
    "D = np.round( Vinv.dot(A).dot(V), 10 )\n",
    "D"
   ],
   "metadata": {
    "collapsed": false,
    "ExecuteTime": {
     "end_time": "2023-05-05T13:03:54.597593Z",
     "start_time": "2023-05-05T13:03:54.584833Z"
    }
   }
  },
  {
   "cell_type": "code",
   "execution_count": 82,
   "outputs": [],
   "source": [
    "# (d) Berechnen Sie A20 1) indem Sie die Matrix 20x mit sich selbst multiplizieren und 2) indem Sie die bereits berechnete Diagonalmatrix D und die Matrizen V und V−1 benutzen. Welche Methode ist schneller? Wie schneidet np.linalg.matrix_power() im Vergleich dazu ab?\n",
    "Methode ist schneller? Wie schneidet np.linalg.matrix_power() im Vergleich dazu ab?\n",
    "res = np.eye( A.shape[0] )\n",
    "for i in range(20):\n",
    "    res = res.dot(A)\n"
   ],
   "metadata": {
    "collapsed": false,
    "ExecuteTime": {
     "end_time": "2023-05-05T13:09:58.802689Z",
     "start_time": "2023-05-05T13:09:58.799781Z"
    }
   }
  },
  {
   "cell_type": "code",
   "execution_count": 80,
   "outputs": [],
   "source": [],
   "metadata": {
    "collapsed": false,
    "ExecuteTime": {
     "end_time": "2023-05-05T13:08:58.851075Z",
     "start_time": "2023-05-05T13:08:58.833942Z"
    }
   }
  },
  {
   "cell_type": "markdown",
   "source": [
    "\n",
    "### Aufgabe 16\n",
    "\n",
    "<img src=\"/Users/christianheeb/Library/CloudStorage/OneDrive-Persönlich/02_Ausbildung/01_Bachelor Data Science/2. Semester/08_ala/ala_python/Bilder/Aufgabe16.jpg\"  width=\"1000\">"
   ],
   "metadata": {
    "collapsed": false
   }
  },
  {
   "cell_type": "code",
   "execution_count": 27,
   "outputs": [
    {
     "data": {
      "text/plain": "array([[ -2,  -4,  -6,   6,  -8,   6,   3,   6,   8,  -9,  -1,   1,   4,\n          2,   2,   2,  -1,  -1,   2,   2],\n       [ -3,  -7, -13,  16, -14,  14,   6,  11,  18, -19,   5,   0,   3,\n          3,   6,   8,  -3,  -1,   0,   9]])"
     },
     "execution_count": 27,
     "metadata": {},
     "output_type": "execute_result"
    }
   ],
   "source": [
    "# (a) Speichern Sie die Messpunkte in einer Matrix X ∈ R2×20.\n",
    "X = np.array([[-2, -4, -6 , 6, -8, 6, 3, 6, 8, -9, -1, 1, 4, 2, 2, 2, -1, -1, 2, 2],\n",
    "              [-3, -7, -13, 16, -14, 14, 6, 11, 18, -19, 5, 0, 3, 3, 6, 8, -3, -1, 0, 9]])\n",
    "X"
   ],
   "metadata": {
    "collapsed": false,
    "ExecuteTime": {
     "end_time": "2023-05-05T12:37:19.822846Z",
     "start_time": "2023-05-05T12:37:19.818127Z"
    }
   }
  },
  {
   "cell_type": "code",
   "execution_count": 37,
   "outputs": [
    {
     "data": {
      "text/plain": "<Figure size 750x350 with 1 Axes>",
      "image/png": "[encoded data removed]"
     },
     "metadata": {},
     "output_type": "display_data"
    }
   ],
   "source": [
    "# (b) Stellen Sie die Messpunkte graphisch in einem zweidimensionalen Koordinatensystem dar. Sehen Sie einen Zusammenhang zwischen den Grössen x und  y ?\n",
    "plt.scatter(X[0,:], X[1,:])\n",
    "plt.xlabel(\"x\")\n",
    "plt.ylabel(\"y\")\n",
    "\n",
    "plt.show()\n"
   ],
   "metadata": {
    "collapsed": false,
    "ExecuteTime": {
     "end_time": "2023-05-05T12:47:55.177013Z",
     "start_time": "2023-05-05T12:47:55.122378Z"
    }
   }
  },
  {
   "cell_type": "code",
   "execution_count": 0,
   "outputs": [],
   "source": [
    "# (c) Berechnen Sie mit Numpy die Eigenvektoren v1 und v2 der Matrix XXT. Welche Eigenschaft bringt XXT automatisch mit sich mit?\n",
    "\n",
    "# Kreuzprodukt der zwei Matrizen X und X Transponierte (T) berechnen\n",
    "XXT = np.dot(X, X.T)\n",
    "sp.Matrix(XXT)"
   ],
   "metadata": {
    "collapsed": false
   }
  },
  {
   "cell_type": "code",
   "execution_count": 45,
   "outputs": [
    {
     "data": {
      "text/plain": "array([  31.33064012, 2341.66935988])"
     },
     "execution_count": 45,
     "metadata": {},
     "output_type": "execute_result"
    }
   ],
   "source": [
    "# Berechnung der Eigenwerte und Eigenvektoren\n",
    "ew, ev = np.linalg.eig(XXT)\n",
    "\n",
    "# Eigenwerte ausgeben\n",
    "ew"
   ],
   "metadata": {
    "collapsed": false,
    "ExecuteTime": {
     "end_time": "2023-05-05T12:51:48.604974Z",
     "start_time": "2023-05-05T12:51:48.595519Z"
    }
   }
  },
  {
   "cell_type": "code",
   "execution_count": 46,
   "outputs": [
    {
     "data": {
      "text/plain": "array([[-0.91153928, -0.41121301],\n       [ 0.41121301, -0.91153928]])"
     },
     "execution_count": 46,
     "metadata": {},
     "output_type": "execute_result"
    }
   ],
   "source": [
    "# Eigenvektoren ausgeben\n",
    "ev"
   ],
   "metadata": {
    "collapsed": false,
    "ExecuteTime": {
     "end_time": "2023-05-05T12:51:53.091288Z",
     "start_time": "2023-05-05T12:51:53.076194Z"
    }
   }
  },
  {
   "cell_type": "code",
   "execution_count": 47,
   "outputs": [
    {
     "data": {
      "text/plain": "Matrix([\n[-0.911539280492733],\n[ 0.411213010639001]])",
      "text/latex": "$\\displaystyle \\left[\\begin{matrix}-0.911539280492733\\\\0.411213010639001\\end{matrix}\\right]$"
     },
     "execution_count": 47,
     "metadata": {},
     "output_type": "execute_result"
    }
   ],
   "source": [
    "v1 = ev[:, 0]\n",
    "v2 = ev[:, 1]\n",
    "\n",
    "sp.Matrix(v1)"
   ],
   "metadata": {
    "collapsed": false,
    "ExecuteTime": {
     "end_time": "2023-05-05T12:51:55.637628Z",
     "start_time": "2023-05-05T12:51:55.622076Z"
    }
   }
  },
  {
   "cell_type": "code",
   "execution_count": 48,
   "outputs": [
    {
     "data": {
      "text/plain": "Matrix([\n[-0.411213010639001],\n[-0.911539280492733]])",
      "text/latex": "$\\displaystyle \\left[\\begin{matrix}-0.411213010639001\\\\-0.911539280492733\\end{matrix}\\right]$"
     },
     "execution_count": 48,
     "metadata": {},
     "output_type": "execute_result"
    }
   ],
   "source": [
    "sp.Matrix(v2)"
   ],
   "metadata": {
    "collapsed": false,
    "ExecuteTime": {
     "end_time": "2023-05-05T12:51:58.854631Z",
     "start_time": "2023-05-05T12:51:58.846446Z"
    }
   }
  },
  {
   "cell_type": "code",
   "execution_count": 49,
   "outputs": [
    {
     "data": {
      "text/plain": "<Figure size 700x1000 with 1 Axes>",
      "image/png": "[encoded data removed]"
     },
     "metadata": {},
     "output_type": "display_data"
    }
   ],
   "source": [
    "# (d) Überlegen Sie, wie Sie die Eigenvektoren aus (c) geeignet in die graphische Darstellung aus (b) integrieren können. In welche besonderen Richtungen zeigen die zwei Eigenvektoren?\n",
    "plt.figure(figsize=(7,10))\n",
    "plt.scatter(X[0,:], X[1,:])\n",
    "plt.xlabel(\"x\")\n",
    "plt.ylabel(\"y\")\n",
    "plt.quiver(0, 0, *v1, color=\"red\", scale=3, label=\"$\\lambda_1 = {:.3f}$\".format(ew[0]))\n",
    "plt.quiver(0, 0, *v2, color=\"green\", scale=3, label=\"$\\lambda_1 = {:.3f}$\".format(ew[1]))\n",
    "plt.legend()\n",
    "plt.gca().set_aspect(\"equal\")"
   ],
   "metadata": {
    "collapsed": false,
    "ExecuteTime": {
     "end_time": "2023-05-05T12:53:42.846619Z",
     "start_time": "2023-05-05T12:53:42.693809Z"
    }
   }
  },
  {
   "cell_type": "markdown",
   "source": [],
   "metadata": {
    "collapsed": false
   }
  }
 ],
 "metadata": {
  "kernelspec": {
   "display_name": "Python 3",
   "language": "python",
   "name": "python3"
  },
  "language_info": {
   "codemirror_mode": {
    "name": "ipython",
    "version": 2
   },
   "file_extension": ".py",
   "mimetype": "text/x-python",
   "name": "python",
   "nbconvert_exporter": "python",
   "pygments_lexer": "ipython2",
   "version": "2.7.6"
  }
 },
 "nbformat": 4,
 "nbformat_minor": 0
}
