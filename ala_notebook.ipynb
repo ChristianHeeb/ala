{
 "cells": [
  {
   "cell_type": "markdown",
   "metadata": {},
   "source": [
    "# LE1 - Eigenwerte und Eigenvektoren mit Python\n"
   ]
  },
  {
   "cell_type": "markdown",
   "metadata": {},
   "source": [
    "### Beispiel mit Sympy"
   ]
  },
  {
   "cell_type": "code",
   "execution_count": 2,
   "metadata": {
    "collapsed": false,
    "jupyter": {
     "outputs_hidden": false
    },
    "ExecuteTime": {
     "end_time": "2023-06-23T05:53:50.027281Z",
     "start_time": "2023-06-23T05:53:49.620226Z"
    }
   },
   "outputs": [],
   "source": [
    "import sympy as sp"
   ]
  },
  {
   "cell_type": "code",
   "execution_count": 3,
   "metadata": {
    "collapsed": false,
    "jupyter": {
     "outputs_hidden": false
    },
    "ExecuteTime": {
     "end_time": "2023-06-23T05:53:50.068072Z",
     "start_time": "2023-06-23T05:53:49.967936Z"
    }
   },
   "outputs": [
    {
     "data": {
      "text/plain": "Matrix([\n[2, 0, 0],\n[1, 2, 3],\n[1, 0, 5]])",
      "text/latex": "$\\displaystyle \\left[\\begin{matrix}2 & 0 & 0\\\\1 & 2 & 3\\\\1 & 0 & 5\\end{matrix}\\right]$"
     },
     "execution_count": 3,
     "metadata": {},
     "output_type": "execute_result"
    }
   ],
   "source": [
    "#Matrix A erstellen\n",
    "A = sp.Matrix([[2,0,0],[1,2,3], [1,0,5]])\n",
    "A"
   ]
  },
  {
   "cell_type": "code",
   "execution_count": 4,
   "metadata": {
    "collapsed": false,
    "jupyter": {
     "outputs_hidden": false
    },
    "ExecuteTime": {
     "end_time": "2023-06-23T05:53:50.068696Z",
     "start_time": "2023-06-23T05:53:49.970447Z"
    }
   },
   "outputs": [
    {
     "data": {
      "text/plain": "{2: 2, 5: 1}"
     },
     "execution_count": 4,
     "metadata": {},
     "output_type": "execute_result"
    }
   ],
   "source": [
    "#Eigenwerte auslesen\n",
    "A.eigenvals()"
   ]
  },
  {
   "cell_type": "markdown",
   "metadata": {},
   "source": [
    "Sympy gibt zusätzlich zu den Eigenwerten auch die Algebraische Vielfachheit aus.\n",
    "2 hat eine Algebraische Vielfachheit von 2 und 5 hat die Algebraische Vielfachheit von 1\n"
   ]
  },
  {
   "cell_type": "markdown",
   "metadata": {},
   "source": [
    "Weitere Beispiele"
   ]
  },
  {
   "cell_type": "code",
   "execution_count": 5,
   "metadata": {
    "collapsed": false,
    "jupyter": {
     "outputs_hidden": false
    },
    "ExecuteTime": {
     "end_time": "2023-06-23T05:53:50.068985Z",
     "start_time": "2023-06-23T05:53:49.972996Z"
    }
   },
   "outputs": [
    {
     "data": {
      "text/plain": "[(2,\n  2,\n  [Matrix([\n   [0],\n   [1],\n   [0]]),\n   Matrix([\n   [-3],\n   [ 0],\n   [ 1]])]),\n (5,\n  1,\n  [Matrix([\n   [0],\n   [1],\n   [1]])])]"
     },
     "execution_count": 5,
     "metadata": {},
     "output_type": "execute_result"
    }
   ],
   "source": [
    "#Eigenvektoren\n",
    "A.eigenvects()"
   ]
  },
  {
   "cell_type": "markdown",
   "metadata": {},
   "source": [
    "Für 2 gibt es 2 Eigenvektoren [0,1,0], [-3,0,1] und für 5 gibt es einen Eigenvektor [0,1,1]"
   ]
  },
  {
   "cell_type": "code",
   "execution_count": 6,
   "metadata": {
    "collapsed": false,
    "jupyter": {
     "outputs_hidden": false
    },
    "ExecuteTime": {
     "end_time": "2023-06-23T05:53:50.069235Z",
     "start_time": "2023-06-23T05:53:49.980415Z"
    }
   },
   "outputs": [
    {
     "data": {
      "text/plain": "Matrix([\n[0, -3, 0],\n[1,  0, 1],\n[0,  1, 1]])",
      "text/latex": "$\\displaystyle \\left[\\begin{matrix}0 & -3 & 0\\\\1 & 0 & 1\\\\0 & 1 & 1\\end{matrix}\\right]$"
     },
     "execution_count": 6,
     "metadata": {},
     "output_type": "execute_result"
    }
   ],
   "source": [
    "#Diagonalisierung\n",
    "V,D = A.diagonalize()\n",
    "V"
   ]
  },
  {
   "cell_type": "code",
   "execution_count": 7,
   "metadata": {
    "collapsed": false,
    "jupyter": {
     "outputs_hidden": false
    },
    "ExecuteTime": {
     "end_time": "2023-06-23T05:53:50.069464Z",
     "start_time": "2023-06-23T05:53:49.983644Z"
    }
   },
   "outputs": [
    {
     "data": {
      "text/plain": "Matrix([\n[2, 0, 0],\n[0, 2, 0],\n[0, 0, 5]])",
      "text/latex": "$\\displaystyle \\left[\\begin{matrix}2 & 0 & 0\\\\0 & 2 & 0\\\\0 & 0 & 5\\end{matrix}\\right]$"
     },
     "execution_count": 7,
     "metadata": {},
     "output_type": "execute_result"
    }
   ],
   "source": [
    "D"
   ]
  },
  {
   "cell_type": "markdown",
   "metadata": {},
   "source": [
    "Gibt Matrix V mit den Eigenvektoren und Matrix D mit den Eigenwerten auf der Diagonale angeordnet"
   ]
  },
  {
   "cell_type": "code",
   "execution_count": 8,
   "metadata": {
    "collapsed": false,
    "jupyter": {
     "outputs_hidden": false
    },
    "ExecuteTime": {
     "end_time": "2023-06-23T05:53:50.069691Z",
     "start_time": "2023-06-23T05:53:49.986597Z"
    }
   },
   "outputs": [
    {
     "data": {
      "text/plain": "Matrix([\n[-1/3, 1, -1],\n[-1/3, 0,  0],\n[ 1/3, 0,  1]])",
      "text/latex": "$\\displaystyle \\left[\\begin{matrix}- \\frac{1}{3} & 1 & -1\\\\- \\frac{1}{3} & 0 & 0\\\\\\frac{1}{3} & 0 & 1\\end{matrix}\\right]$"
     },
     "execution_count": 8,
     "metadata": {},
     "output_type": "execute_result"
    }
   ],
   "source": [
    "#Diagonalisierbarkeit prüfen mithilfe der Inverse\n",
    "V_inv = V.inv()\n",
    "V_inv"
   ]
  },
  {
   "cell_type": "code",
   "execution_count": 9,
   "metadata": {
    "collapsed": false,
    "jupyter": {
     "outputs_hidden": false
    },
    "ExecuteTime": {
     "end_time": "2023-06-23T05:53:50.069906Z",
     "start_time": "2023-06-23T05:53:49.989527Z"
    }
   },
   "outputs": [
    {
     "data": {
      "text/plain": "Matrix([\n[2, 0, 0],\n[0, 2, 0],\n[0, 0, 5]])",
      "text/latex": "$\\displaystyle \\left[\\begin{matrix}2 & 0 & 0\\\\0 & 2 & 0\\\\0 & 0 & 5\\end{matrix}\\right]$"
     },
     "execution_count": 9,
     "metadata": {},
     "output_type": "execute_result"
    }
   ],
   "source": [
    "#Matrix D erstellen (@ dient als Produktzeichen in Sympy)\n",
    "V_inv@A@V"
   ]
  },
  {
   "cell_type": "markdown",
   "metadata": {},
   "source": [
    "## Beispiel mit Numpy\n"
   ]
  },
  {
   "cell_type": "code",
   "execution_count": 10,
   "metadata": {
    "collapsed": false,
    "jupyter": {
     "outputs_hidden": false
    },
    "ExecuteTime": {
     "end_time": "2023-06-23T05:53:50.543248Z",
     "start_time": "2023-06-23T05:53:49.991872Z"
    }
   },
   "outputs": [],
   "source": [
    "import numpy as np\n",
    "from matplotlib import pyplot as plt\n"
   ]
  },
  {
   "cell_type": "code",
   "execution_count": 11,
   "metadata": {
    "collapsed": false,
    "jupyter": {
     "outputs_hidden": false
    },
    "ExecuteTime": {
     "end_time": "2023-06-23T05:53:50.545314Z",
     "start_time": "2023-06-23T05:53:50.543525Z"
    }
   },
   "outputs": [
    {
     "data": {
      "text/plain": "array([[2, 0, 0],\n       [1, 2, 3],\n       [1, 0, 5]])"
     },
     "execution_count": 11,
     "metadata": {},
     "output_type": "execute_result"
    }
   ],
   "source": [
    "#Matrix A erstellen\n",
    "A = np.array([[2,0,0],[1,2,3],[1,0,5]])\n",
    "A"
   ]
  },
  {
   "cell_type": "code",
   "execution_count": 12,
   "metadata": {
    "collapsed": false,
    "jupyter": {
     "outputs_hidden": false
    },
    "ExecuteTime": {
     "end_time": "2023-06-23T05:53:50.547775Z",
     "start_time": "2023-06-23T05:53:50.545949Z"
    }
   },
   "outputs": [],
   "source": [
    "eVal, eVec = np.linalg.eig(A)"
   ]
  },
  {
   "cell_type": "code",
   "execution_count": 13,
   "metadata": {
    "collapsed": false,
    "jupyter": {
     "outputs_hidden": false
    },
    "ExecuteTime": {
     "end_time": "2023-06-23T05:53:50.551751Z",
     "start_time": "2023-06-23T05:53:50.549101Z"
    }
   },
   "outputs": [
    {
     "data": {
      "text/plain": "array([2., 5., 2.])"
     },
     "execution_count": 13,
     "metadata": {},
     "output_type": "execute_result"
    }
   ],
   "source": [
    "#Eigenwerte auslesen\n",
    "eVal"
   ]
  },
  {
   "cell_type": "code",
   "execution_count": 14,
   "metadata": {
    "collapsed": false,
    "jupyter": {
     "outputs_hidden": false
    },
    "ExecuteTime": {
     "end_time": "2023-06-23T05:53:50.555074Z",
     "start_time": "2023-06-23T05:53:50.552835Z"
    }
   },
   "outputs": [
    {
     "data": {
      "text/plain": "array([[ 0.        ,  0.        ,  0.94208241],\n       [ 1.        ,  0.70710678, -0.1177603 ],\n       [ 0.        ,  0.70710678, -0.31402747]])"
     },
     "execution_count": 14,
     "metadata": {},
     "output_type": "execute_result"
    }
   ],
   "source": [
    "#Eigenvektoren auslesen\n",
    "eVec"
   ]
  },
  {
   "cell_type": "markdown",
   "metadata": {},
   "source": [
    "## Übungen aus LE1"
   ]
  },
  {
   "cell_type": "markdown",
   "metadata": {},
   "source": [
    "### Aufgabe 15\n",
    "\n",
    "<img src=\"https://raw.githubusercontent.com/ChristianHeeb/ala/main/Bilder/Aufgabe15.jpg\"  width=\"1000\">"
   ]
  },
  {
   "cell_type": "markdown",
   "metadata": {},
   "source": [
    "#### (a) Berechnen Sie die Eigenvektoren und Eigenwerte von A und geben Sie sie aus."
   ]
  },
  {
   "cell_type": "code",
   "execution_count": 15,
   "metadata": {
    "collapsed": false,
    "jupyter": {
     "outputs_hidden": false
    },
    "ExecuteTime": {
     "end_time": "2023-06-23T05:53:50.560504Z",
     "start_time": "2023-06-23T05:53:50.558538Z"
    }
   },
   "outputs": [
    {
     "data": {
      "text/plain": "array([[ 89,  75,  22, 102],\n       [ 75, 116,  27, 120],\n       [ 22,  27,  33,  62],\n       [102, 120,  62, 200]])"
     },
     "execution_count": 15,
     "metadata": {},
     "output_type": "execute_result"
    }
   ],
   "source": [
    "A = np.array([[89,75,22,102],[75,116,27,120],[22,27,33,62],[102,120,62,200]])\n",
    "A"
   ]
  },
  {
   "cell_type": "code",
   "execution_count": 16,
   "metadata": {
    "collapsed": false,
    "jupyter": {
     "outputs_hidden": false
    },
    "ExecuteTime": {
     "end_time": "2023-06-23T05:53:50.562126Z",
     "start_time": "2023-06-23T05:53:50.560957Z"
    }
   },
   "outputs": [],
   "source": [
    "# Eigenwerte\n",
    "ew, ev = np.linalg.eig(A)"
   ]
  },
  {
   "cell_type": "code",
   "execution_count": 17,
   "metadata": {
    "collapsed": false,
    "jupyter": {
     "outputs_hidden": false
    },
    "ExecuteTime": {
     "end_time": "2023-06-23T05:53:50.579390Z",
     "start_time": "2023-06-23T05:53:50.563305Z"
    }
   },
   "outputs": [
    {
     "data": {
      "text/plain": "array([361.75382302,  42.74593101,  26.33718907,   7.16305691])"
     },
     "execution_count": 17,
     "metadata": {},
     "output_type": "execute_result"
    }
   ],
   "source": [
    "ew"
   ]
  },
  {
   "cell_type": "code",
   "execution_count": 18,
   "metadata": {
    "collapsed": false,
    "jupyter": {
     "outputs_hidden": false
    },
    "ExecuteTime": {
     "end_time": "2023-06-23T05:53:50.579678Z",
     "start_time": "2023-06-23T05:53:50.566555Z"
    }
   },
   "outputs": [
    {
     "data": {
      "text/plain": "array([[-0.42552429, -0.42476765,  0.76464379, -0.23199439],\n       [-0.50507589, -0.54267519, -0.64193252, -0.19576676],\n       [-0.20612674,  0.54869183, -0.05515612, -0.80833585],\n       [-0.72203822,  0.4733005 ,  0.01415338,  0.50442752]])"
     },
     "execution_count": 18,
     "metadata": {},
     "output_type": "execute_result"
    }
   ],
   "source": [
    "ev"
   ]
  },
  {
   "cell_type": "markdown",
   "metadata": {},
   "source": [
    "#### (b) Zeigen Sie, dass die einzelnen Eigenvektoren orthogonal zueinander sind. Warum ist das so?"
   ]
  },
  {
   "cell_type": "code",
   "execution_count": 19,
   "metadata": {
    "collapsed": false,
    "jupyter": {
     "outputs_hidden": false
    },
    "ExecuteTime": {
     "end_time": "2023-06-23T05:53:50.579811Z",
     "start_time": "2023-06-23T05:53:50.569828Z"
    }
   },
   "outputs": [
    {
     "data": {
      "text/plain": "array([[ 1.,  0., -0., -0.],\n       [ 0.,  1.,  0., -0.],\n       [-0.,  0.,  1., -0.],\n       [-0., -0., -0.,  1.]])"
     },
     "execution_count": 19,
     "metadata": {},
     "output_type": "execute_result"
    }
   ],
   "source": [
    "np.round(np.dot(ev.T, ev ), 10)"
   ]
  },
  {
   "cell_type": "markdown",
   "metadata": {},
   "source": [
    "Die Eigenvektoren stehen orthogonal zueinander, weil die Matrix A symmetrisch ist"
   ]
  },
  {
   "cell_type": "markdown",
   "metadata": {},
   "source": [
    "#### (c) Erstellen Sie eine Matrix V aus den Eigenvektoren von A und diagonalisieren Sie damit die Matrix A."
   ]
  },
  {
   "cell_type": "code",
   "execution_count": 20,
   "metadata": {
    "collapsed": false,
    "jupyter": {
     "outputs_hidden": false
    },
    "ExecuteTime": {
     "end_time": "2023-06-23T05:53:50.579939Z",
     "start_time": "2023-06-23T05:53:50.573822Z"
    }
   },
   "outputs": [
    {
     "data": {
      "text/plain": "array([[361.7538,   0.    ,  -0.    ,   0.    ],\n       [  0.    ,  42.7459,   0.    ,   0.    ],\n       [  0.    ,  -0.    ,  26.3372,  -0.    ],\n       [  0.    ,   0.    ,  -0.    ,   7.1631]])"
     },
     "execution_count": 20,
     "metadata": {},
     "output_type": "execute_result"
    }
   ],
   "source": [
    "V = ev\n",
    "Vinv = np.linalg.inv(V)\n",
    "D = np.round( Vinv.dot(A).dot(V), decimals = 4)\n",
    "D"
   ]
  },
  {
   "cell_type": "markdown",
   "metadata": {},
   "source": [
    "#### (d) Berechnen Sie A20 1) indem Sie die Matrix 20x mit sich selbst multiplizieren und 2) indem Sie die bereits berechnete Diagonalmatrix D und die Matrizen V und V−1 benutzen. Welche Methode ist schneller? Wie schneidet np.linalg.matrix_power() im Vergleich dazu ab?"
   ]
  },
  {
   "cell_type": "code",
   "execution_count": 21,
   "metadata": {
    "collapsed": false,
    "jupyter": {
     "outputs_hidden": false
    },
    "ExecuteTime": {
     "end_time": "2023-06-23T05:53:50.588235Z",
     "start_time": "2023-06-23T05:53:50.578221Z"
    }
   },
   "outputs": [
    {
     "name": "stdout",
     "output_type": "stream",
     "text": [
      "time to compute [ms]: 7.319450378417969e-08\n"
     ]
    }
   ],
   "source": [
    "import time\n",
    "\n",
    "start = time.time()\n",
    "\n",
    "res = np.eye( A.shape[0] )\n",
    "for i in range(20):\n",
    "    res = res.dot(A)\n",
    "\n",
    "end = time.time()\n",
    "print(\"time to compute [ms]:\", ((end - start)/1000))"
   ]
  },
  {
   "cell_type": "markdown",
   "metadata": {},
   "source": [
    "\n",
    "### Aufgabe 16\n",
    "\n",
    "<img src=\"https://raw.githubusercontent.com/ChristianHeeb/ala/main/Bilder/Aufgabe16.jpg\"  width=\"1000\">"
   ]
  },
  {
   "cell_type": "markdown",
   "metadata": {},
   "source": [
    "#### (a) Speichern Sie die Messpunkte in einer Matrix X ∈ R2×20."
   ]
  },
  {
   "cell_type": "code",
   "execution_count": 22,
   "metadata": {
    "collapsed": false,
    "jupyter": {
     "outputs_hidden": false
    },
    "ExecuteTime": {
     "end_time": "2023-06-23T05:53:50.595405Z",
     "start_time": "2023-06-23T05:53:50.584654Z"
    }
   },
   "outputs": [
    {
     "data": {
      "text/plain": "array([[ -2,  -4,  -6,   6,  -8,   6,   3,   6,   8,  -9,  -1,   1,   4,\n          2,   2,   2,  -1,  -1,   2,   2],\n       [ -3,  -7, -13,  16, -14,  14,   6,  11,  18, -19,   5,   0,   3,\n          3,   6,   8,  -3,  -1,   0,   9]])"
     },
     "execution_count": 22,
     "metadata": {},
     "output_type": "execute_result"
    }
   ],
   "source": [
    "X = np.array([[-2, -4, -6 , 6, -8, 6, 3, 6, 8, -9, -1, 1, 4, 2, 2, 2, -1, -1, 2, 2],\n",
    "              [-3, -7, -13, 16, -14, 14, 6, 11, 18, -19, 5, 0, 3, 3, 6, 8, -3, -1, 0, 9]])\n",
    "X"
   ]
  },
  {
   "cell_type": "markdown",
   "metadata": {},
   "source": [
    "#### (b) Stellen Sie die Messpunkte grafisch in einem zweidimensionalen Koordinatensystem dar. Sehen Sie einen Zusammenhang zwischen den Grössen x und  y ?\n"
   ]
  },
  {
   "cell_type": "code",
   "execution_count": 23,
   "metadata": {
    "collapsed": false,
    "jupyter": {
     "outputs_hidden": false
    },
    "ExecuteTime": {
     "end_time": "2023-06-23T05:53:50.676271Z",
     "start_time": "2023-06-23T05:53:50.590156Z"
    }
   },
   "outputs": [
    {
     "data": {
      "text/plain": "<Figure size 640x480 with 1 Axes>",
      "image/png": "[encoded data removed]"
     },
     "metadata": {},
     "output_type": "display_data"
    }
   ],
   "source": [
    "plt.scatter(X[0,:], X[1,:])\n",
    "plt.xlabel(\"x\")\n",
    "plt.ylabel(\"y\")\n",
    "\n",
    "plt.show()\n"
   ]
  },
  {
   "cell_type": "markdown",
   "metadata": {},
   "source": [
    "#### (c) Berechnen Sie mit Numpy die Eigenvektoren v1 und v2 der Matrix XXT. Welche Eigenschaft bringt XXT automatisch mit sich mit?"
   ]
  },
  {
   "cell_type": "code",
   "execution_count": 24,
   "metadata": {
    "collapsed": false,
    "jupyter": {
     "outputs_hidden": false
    },
    "ExecuteTime": {
     "end_time": "2023-06-23T05:53:50.681002Z",
     "start_time": "2023-06-23T05:53:50.678491Z"
    }
   },
   "outputs": [
    {
     "data": {
      "text/plain": "Matrix([\n[422,  866],\n[866, 1951]])",
      "text/latex": "$\\displaystyle \\left[\\begin{matrix}422 & 866\\\\866 & 1951\\end{matrix}\\right]$"
     },
     "execution_count": 24,
     "metadata": {},
     "output_type": "execute_result"
    }
   ],
   "source": [
    "# Kreuzprodukt der zwei Matrizen X und X Transponierte (T) berechnen\n",
    "XXT = np.dot(X, X.T)\n",
    "sp.Matrix(XXT)"
   ]
  },
  {
   "cell_type": "code",
   "execution_count": 25,
   "metadata": {
    "collapsed": false,
    "jupyter": {
     "outputs_hidden": false
    },
    "ExecuteTime": {
     "end_time": "2023-06-23T05:53:50.685649Z",
     "start_time": "2023-06-23T05:53:50.682702Z"
    }
   },
   "outputs": [
    {
     "data": {
      "text/plain": "array([  31.33064012, 2341.66935988])"
     },
     "execution_count": 25,
     "metadata": {},
     "output_type": "execute_result"
    }
   ],
   "source": [
    "# Berechnung der Eigenwerte und Eigenvektoren\n",
    "ew, ev = np.linalg.eig(XXT)\n",
    "\n",
    "# Eigenwerte ausgeben\n",
    "ew"
   ]
  },
  {
   "cell_type": "code",
   "execution_count": 26,
   "metadata": {
    "collapsed": false,
    "jupyter": {
     "outputs_hidden": false
    },
    "ExecuteTime": {
     "end_time": "2023-06-23T05:53:50.689789Z",
     "start_time": "2023-06-23T05:53:50.687394Z"
    }
   },
   "outputs": [
    {
     "data": {
      "text/plain": "array([[-0.91153928, -0.41121301],\n       [ 0.41121301, -0.91153928]])"
     },
     "execution_count": 26,
     "metadata": {},
     "output_type": "execute_result"
    }
   ],
   "source": [
    "# Eigenvektoren ausgeben\n",
    "ev"
   ]
  },
  {
   "cell_type": "code",
   "execution_count": 27,
   "metadata": {
    "collapsed": false,
    "jupyter": {
     "outputs_hidden": false
    },
    "ExecuteTime": {
     "end_time": "2023-06-23T05:53:50.694469Z",
     "start_time": "2023-06-23T05:53:50.691729Z"
    }
   },
   "outputs": [
    {
     "data": {
      "text/plain": "Matrix([\n[-0.911539280492733],\n[ 0.411213010639001]])",
      "text/latex": "$\\displaystyle \\left[\\begin{matrix}-0.911539280492733\\\\0.411213010639001\\end{matrix}\\right]$"
     },
     "execution_count": 27,
     "metadata": {},
     "output_type": "execute_result"
    }
   ],
   "source": [
    "v1 = ev[:, 0]\n",
    "v2 = ev[:, 1]\n",
    "\n",
    "sp.Matrix(v1)"
   ]
  },
  {
   "cell_type": "code",
   "execution_count": 28,
   "metadata": {
    "collapsed": false,
    "jupyter": {
     "outputs_hidden": false
    },
    "ExecuteTime": {
     "end_time": "2023-06-23T05:53:50.739856Z",
     "start_time": "2023-06-23T05:53:50.696469Z"
    }
   },
   "outputs": [
    {
     "data": {
      "text/plain": "Matrix([\n[-0.411213010639001],\n[-0.911539280492733]])",
      "text/latex": "$\\displaystyle \\left[\\begin{matrix}-0.411213010639001\\\\-0.911539280492733\\end{matrix}\\right]$"
     },
     "execution_count": 28,
     "metadata": {},
     "output_type": "execute_result"
    }
   ],
   "source": [
    "sp.Matrix(v2)"
   ]
  },
  {
   "cell_type": "markdown",
   "metadata": {},
   "source": [
    "#### (d) Überlegen Sie, wie Sie die Eigenvektoren aus (c) geeignet in die graphische Darstellung aus (b) integrieren können. In welche besonderen Richtungen zeigen die zwei Eigenvektoren?"
   ]
  },
  {
   "cell_type": "code",
   "execution_count": 29,
   "metadata": {
    "collapsed": false,
    "jupyter": {
     "outputs_hidden": false
    },
    "ExecuteTime": {
     "end_time": "2023-06-23T05:53:50.843957Z",
     "start_time": "2023-06-23T05:53:50.702540Z"
    }
   },
   "outputs": [
    {
     "data": {
      "text/plain": "<Figure size 700x1000 with 1 Axes>",
      "image/png": "[encoded data removed]"
     },
     "metadata": {},
     "output_type": "display_data"
    }
   ],
   "source": [
    "plt.figure(figsize=(7,10))\n",
    "plt.scatter(X[0,:], X[1,:])\n",
    "plt.xlabel(\"x\")\n",
    "plt.ylabel(\"y\")\n",
    "plt.quiver(0, 0, *v1, color=\"red\", scale=3, label=\"$\\lambda_1 = {:.3f}$\".format(ew[0]))\n",
    "plt.quiver(0, 0, *v2, color=\"green\", scale=3, label=\"$\\lambda_1 = {:.3f}$\".format(ew[1]))\n",
    "plt.legend()\n",
    "plt.gca().set_aspect(\"equal\")"
   ]
  },
  {
   "cell_type": "markdown",
   "metadata": {},
   "source": [
    "# LE2 - Vertiefung lineare Abbildungen"
   ]
  },
  {
   "cell_type": "markdown",
   "metadata": {},
   "source": [
    "## Übungen aus LE2"
   ]
  },
  {
   "cell_type": "markdown",
   "metadata": {},
   "source": [
    "### Aufgabe 14\n",
    "\n",
    "<img src=\"https://raw.githubusercontent.com/ChristianHeeb/ala/main/Bilder/2Aufgabe14.jpg\" width=\"1000\">"
   ]
  },
  {
   "cell_type": "markdown",
   "metadata": {},
   "source": [
    "#### (b) Gegeben seien nun die zwei Matrizen A und B. Finden Sie eine geeignete Funktion in Python (Numpy  hat  leider  keine), die e^A^ und e^B^ berechnet. Berechnen Sie auch e^A+B^, e^A^e^B^ und e^B^e^A^ und prüfen Sie damit empirisch Ihre Schlussfolgerung aus (a)."
   ]
  },
  {
   "cell_type": "code",
   "execution_count": 30,
   "metadata": {
    "collapsed": false,
    "jupyter": {
     "outputs_hidden": false
    },
    "ExecuteTime": {
     "end_time": "2023-06-23T05:53:51.197727Z",
     "start_time": "2023-06-23T05:53:50.844632Z"
    }
   },
   "outputs": [],
   "source": [
    "from scipy.linalg import expm\n",
    "\n",
    "A = np.array([[1,0],[1,-1]])\n",
    "B = np.array([[2,-1],[-2,3]])"
   ]
  },
  {
   "cell_type": "code",
   "execution_count": 31,
   "metadata": {
    "collapsed": false,
    "jupyter": {
     "outputs_hidden": false
    },
    "ExecuteTime": {
     "end_time": "2023-06-23T05:53:51.201018Z",
     "start_time": "2023-06-23T05:53:51.198127Z"
    }
   },
   "outputs": [
    {
     "data": {
      "text/plain": "array([[ 28.06545077, -14.88394368],\n       [-14.88394368,  13.1815071 ]])"
     },
     "execution_count": 31,
     "metadata": {},
     "output_type": "execute_result"
    }
   ],
   "source": [
    "expm( A + B )"
   ]
  },
  {
   "cell_type": "code",
   "execution_count": 32,
   "metadata": {
    "collapsed": false,
    "jupyter": {
     "outputs_hidden": false
    },
    "ExecuteTime": {
     "end_time": "2023-06-23T05:53:51.203533Z",
     "start_time": "2023-06-23T05:53:51.201562Z"
    }
   },
   "outputs": [
    {
     "data": {
      "text/plain": "array([[ 28.06545077, -14.88394368],\n       [-14.88394368,  13.1815071 ]])"
     },
     "execution_count": 32,
     "metadata": {},
     "output_type": "execute_result"
    }
   ],
   "source": [
    "expm( B + A )"
   ]
  },
  {
   "cell_type": "code",
   "execution_count": 33,
   "metadata": {
    "collapsed": false,
    "jupyter": {
     "outputs_hidden": false
    },
    "ExecuteTime": {
     "end_time": "2023-06-23T05:53:51.217004Z",
     "start_time": "2023-06-23T05:53:51.203941Z"
    }
   },
   "outputs": [
    {
     "data": {
      "text/plain": "array([[ 54.39709043, -47.00803433],\n       [ 10.79393111,  -6.59940306]])"
     },
     "execution_count": 33,
     "metadata": {},
     "output_type": "execute_result"
    }
   ],
   "source": [
    "expm(A) @ expm(B)"
   ]
  },
  {
   "cell_type": "code",
   "execution_count": 34,
   "metadata": {
    "collapsed": false,
    "jupyter": {
     "outputs_hidden": false
    },
    "ExecuteTime": {
     "end_time": "2023-06-23T05:53:51.217203Z",
     "start_time": "2023-06-23T05:53:51.207140Z"
    }
   },
   "outputs": [
    {
     "data": {
      "text/plain": "array([[ 34.07399609,  -6.36184564],\n       [-50.17535193,  13.72369128]])"
     },
     "execution_count": 34,
     "metadata": {},
     "output_type": "execute_result"
    }
   ],
   "source": [
    "expm(B) @ expm(A)"
   ]
  },
  {
   "cell_type": "markdown",
   "metadata": {},
   "source": [
    "Es gilt nicht $e^{A+B} = e^A \\, e^B$."
   ]
  },
  {
   "cell_type": "markdown",
   "metadata": {},
   "source": [
    "#### (d) Prüfen Sie mit den Matrizen  A  und  B,  ob  der  Zusammenhang  det(e^A^)  =  e^spur(A)^  dafür  gilt."
   ]
  },
  {
   "cell_type": "code",
   "execution_count": 35,
   "metadata": {
    "collapsed": false,
    "jupyter": {
     "outputs_hidden": false
    },
    "ExecuteTime": {
     "end_time": "2023-06-23T05:53:51.217308Z",
     "start_time": "2023-06-23T05:53:51.210661Z"
    }
   },
   "outputs": [
    {
     "data": {
      "text/plain": "1.0"
     },
     "execution_count": 35,
     "metadata": {},
     "output_type": "execute_result"
    }
   ],
   "source": [
    "np.linalg.det(expm(A))"
   ]
  },
  {
   "cell_type": "code",
   "execution_count": 36,
   "metadata": {
    "collapsed": false,
    "jupyter": {
     "outputs_hidden": false
    },
    "ExecuteTime": {
     "end_time": "2023-06-23T05:53:51.217403Z",
     "start_time": "2023-06-23T05:53:51.212846Z"
    }
   },
   "outputs": [
    {
     "data": {
      "text/plain": "1.0"
     },
     "execution_count": 36,
     "metadata": {},
     "output_type": "execute_result"
    }
   ],
   "source": [
    "np.exp(np.trace(A))"
   ]
  },
  {
   "cell_type": "code",
   "execution_count": 37,
   "metadata": {
    "collapsed": false,
    "jupyter": {
     "outputs_hidden": false
    },
    "ExecuteTime": {
     "end_time": "2023-06-23T05:53:51.217502Z",
     "start_time": "2023-06-23T05:53:51.215583Z"
    }
   },
   "outputs": [
    {
     "data": {
      "text/plain": "148.4131591025766"
     },
     "execution_count": 37,
     "metadata": {},
     "output_type": "execute_result"
    }
   ],
   "source": [
    "np.linalg.det(expm(B))"
   ]
  },
  {
   "cell_type": "markdown",
   "metadata": {},
   "source": []
  },
  {
   "cell_type": "code",
   "execution_count": 38,
   "metadata": {
    "collapsed": false,
    "jupyter": {
     "outputs_hidden": false
    },
    "ExecuteTime": {
     "end_time": "2023-06-23T05:53:51.220156Z",
     "start_time": "2023-06-23T05:53:51.218320Z"
    }
   },
   "outputs": [
    {
     "data": {
      "text/plain": "148.4131591025766"
     },
     "execution_count": 38,
     "metadata": {},
     "output_type": "execute_result"
    }
   ],
   "source": [
    "np.exp(np.trace(B))"
   ]
  },
  {
   "cell_type": "markdown",
   "metadata": {},
   "source": [
    "### Aufgabe 17\n",
    "\n",
    "<img src=\"https://raw.githubusercontent.com/ChristianHeeb/ala/main/Bilder/2Aufgabe17.jpg\" width=\"1000\">"
   ]
  },
  {
   "cell_type": "code",
   "execution_count": 39,
   "metadata": {
    "collapsed": false,
    "jupyter": {
     "outputs_hidden": false
    },
    "ExecuteTime": {
     "end_time": "2023-06-23T05:53:51.250248Z",
     "start_time": "2023-06-23T05:53:51.221395Z"
    }
   },
   "outputs": [
    {
     "data": {
      "text/plain": "False"
     },
     "execution_count": 39,
     "metadata": {},
     "output_type": "execute_result"
    }
   ],
   "source": [
    "def positiv_definit(A):\n",
    "    eigvals = np.linalg.eigvals(A)\n",
    "    return np.all(eigvals > 0)\n",
    "\n",
    "\n",
    "A = np.array([[1, 2], [2, 1]])\n",
    "positiv_definit(A)"
   ]
  },
  {
   "cell_type": "code",
   "execution_count": 40,
   "metadata": {
    "collapsed": false,
    "jupyter": {
     "outputs_hidden": false
    },
    "ExecuteTime": {
     "end_time": "2023-06-23T05:53:51.250506Z",
     "start_time": "2023-06-23T05:53:51.224713Z"
    }
   },
   "outputs": [
    {
     "data": {
      "text/plain": "True"
     },
     "execution_count": 40,
     "metadata": {},
     "output_type": "execute_result"
    }
   ],
   "source": [
    "B = np.array([[1, -1], [-1, 4]])\n",
    "positiv_definit(B)"
   ]
  },
  {
   "cell_type": "code",
   "execution_count": 41,
   "metadata": {
    "collapsed": false,
    "jupyter": {
     "outputs_hidden": false
    },
    "ExecuteTime": {
     "end_time": "2023-06-23T05:53:51.250614Z",
     "start_time": "2023-06-23T05:53:51.228194Z"
    }
   },
   "outputs": [
    {
     "data": {
      "text/plain": "False"
     },
     "execution_count": 41,
     "metadata": {},
     "output_type": "execute_result"
    }
   ],
   "source": [
    "C = np.array([[1, 0, 0], [0, 1, 1], [0, 1, 1]])\n",
    "positiv_definit(C)"
   ]
  },
  {
   "cell_type": "code",
   "execution_count": 42,
   "metadata": {
    "collapsed": false,
    "jupyter": {
     "outputs_hidden": false
    },
    "ExecuteTime": {
     "end_time": "2023-06-23T05:53:51.250962Z",
     "start_time": "2023-06-23T05:53:51.235830Z"
    }
   },
   "outputs": [
    {
     "data": {
      "text/plain": "True"
     },
     "execution_count": 42,
     "metadata": {},
     "output_type": "execute_result"
    }
   ],
   "source": [
    "D = np.array([[2, -1, 0], [-1, 2, -1], [0, -1, 2]])\n",
    "positiv_definit(D)"
   ]
  },
  {
   "cell_type": "markdown",
   "metadata": {},
   "source": [
    "# LE3 - Basistransformationen\n",
    "\n",
    "## Übungen aus LE3"
   ]
  },
  {
   "cell_type": "markdown",
   "metadata": {},
   "source": [
    "### Aufgabe 8\n",
    "\n",
    "<img src=\"https://raw.githubusercontent.com/ChristianHeeb/ala/main/Bilder/3Aufgabe8.jpg\" size = 1000>"
   ]
  },
  {
   "cell_type": "markdown",
   "metadata": {},
   "source": [
    "#### (a) Erstellen  Sie  aus  diesen  Eigenvektoren  eine  Basistransformation  T  €  IR^2*2^,  die  in  die Eigenbasis von XX^T^ transformiert."
   ]
  },
  {
   "cell_type": "code",
   "execution_count": 43,
   "metadata": {
    "collapsed": false,
    "jupyter": {
     "outputs_hidden": false
    },
    "ExecuteTime": {
     "end_time": "2023-06-23T05:53:51.251110Z",
     "start_time": "2023-06-23T05:53:51.239695Z"
    }
   },
   "outputs": [],
   "source": [
    "X = np.array([\n",
    "    [-2, -4, -6, 6, -8, 6, 3, 6, 8, -9, -1, 1, 4, 2, 2, 2, -1, -1, 2, 2],\n",
    "    [ -3, -7, -13, 16, -14, 14, 6, 11, 18, -19, 5, 0, 3, 3, 6, 8, -3, -1, 0, 9]\n",
    "])\n",
    "\n",
    "XXT = np.dot(X, X.T)\n",
    "ew, ev = np.linalg.eig( XXT)\n",
    "\n",
    "v1 = ev[:,0]\n",
    "v2 = ev[:,1]"
   ]
  },
  {
   "cell_type": "markdown",
   "metadata": {},
   "source": [
    "Eigenwerte nach Grösse sortieren"
   ]
  },
  {
   "cell_type": "code",
   "execution_count": 44,
   "metadata": {
    "collapsed": false,
    "jupyter": {
     "outputs_hidden": false
    },
    "ExecuteTime": {
     "end_time": "2023-06-23T05:53:51.251188Z",
     "start_time": "2023-06-23T05:53:51.242120Z"
    }
   },
   "outputs": [],
   "source": [
    "sorting = np.argsort(ew)[::-1]\n",
    "v1 = ev[:,sorting][:,0]\n",
    "v2 = ev[:,sorting][:,1]\n",
    "lambda1 = ew[sorting][0]\n",
    "lambda2 = ew[sorting][1]"
   ]
  },
  {
   "cell_type": "markdown",
   "metadata": {},
   "source": [
    "Basistransformation:"
   ]
  },
  {
   "cell_type": "code",
   "execution_count": 45,
   "metadata": {
    "collapsed": false,
    "jupyter": {
     "outputs_hidden": false
    },
    "ExecuteTime": {
     "end_time": "2023-06-23T05:53:51.251324Z",
     "start_time": "2023-06-23T05:53:51.244501Z"
    }
   },
   "outputs": [
    {
     "data": {
      "text/plain": "array([[-0.41121301, -0.91153928],\n       [-0.91153928,  0.41121301]])"
     },
     "execution_count": 45,
     "metadata": {},
     "output_type": "execute_result"
    }
   ],
   "source": [
    "T = ev[:,sorting]\n",
    "T"
   ]
  },
  {
   "cell_type": "markdown",
   "metadata": {},
   "source": [
    "$T^{-1}$ sollte $\\mathbf{v}_1$ auf $\\mathbf{e}_1$ und $\\mathbf{v}_2$ auf $\\mathbf{e}_2$ abbilden:"
   ]
  },
  {
   "cell_type": "code",
   "execution_count": 46,
   "metadata": {
    "collapsed": false,
    "jupyter": {
     "outputs_hidden": false
    },
    "ExecuteTime": {
     "end_time": "2023-06-23T05:53:51.251533Z",
     "start_time": "2023-06-23T05:53:51.248311Z"
    }
   },
   "outputs": [
    {
     "data": {
      "text/plain": "array([[ 1., -0.],\n       [-0.,  1.]])"
     },
     "execution_count": 46,
     "metadata": {},
     "output_type": "execute_result"
    }
   ],
   "source": [
    "np.round( np.linalg.inv(T).dot(ev[:,sorting]),10 )"
   ]
  },
  {
   "cell_type": "markdown",
   "metadata": {},
   "source": [
    "T ist übrigens orthogonal:\n"
   ]
  },
  {
   "cell_type": "code",
   "execution_count": 47,
   "metadata": {
    "collapsed": false,
    "jupyter": {
     "outputs_hidden": false
    },
    "ExecuteTime": {
     "end_time": "2023-06-23T05:53:51.262099Z",
     "start_time": "2023-06-23T05:53:51.251620Z"
    }
   },
   "outputs": [
    {
     "data": {
      "text/plain": "array([[ 1., -0.],\n       [-0.,  1.]])"
     },
     "execution_count": 47,
     "metadata": {},
     "output_type": "execute_result"
    }
   ],
   "source": [
    "np.round( T.dot(T.T), 10 )"
   ]
  },
  {
   "cell_type": "markdown",
   "metadata": {},
   "source": [
    "und damit gilt $T^{-1} = T^T$."
   ]
  },
  {
   "cell_type": "markdown",
   "source": [
    "#### (b) Wenden Sie T nun auf die Messpunkte an und transformieren Sie sie so in die Eigenbasis von XX^T^. Stellen Sie die transformierten Messpunkte graphisch dar. Was stellen Sie fest?"
   ],
   "metadata": {
    "collapsed": false
   }
  },
  {
   "cell_type": "markdown",
   "source": [
    "Messpunkte mit $T^T$ in Eigenbasis transformieren:"
   ],
   "metadata": {
    "collapsed": false
   }
  },
  {
   "cell_type": "code",
   "execution_count": 48,
   "outputs": [],
   "source": [
    "X_EB = T.T.dot(X)"
   ],
   "metadata": {
    "collapsed": false,
    "ExecuteTime": {
     "end_time": "2023-06-23T05:53:51.262264Z",
     "start_time": "2023-06-23T05:53:51.254494Z"
    }
   }
  },
  {
   "cell_type": "code",
   "execution_count": 49,
   "outputs": [
    {
     "data": {
      "text/plain": "<matplotlib.legend.Legend at 0x107245b80>"
     },
     "execution_count": 49,
     "metadata": {},
     "output_type": "execute_result"
    },
    {
     "data": {
      "text/plain": "<Figure size 640x480 with 1 Axes>",
      "image/png": "[encoded data removed]"
     },
     "metadata": {},
     "output_type": "display_data"
    }
   ],
   "source": [
    "plt.scatter(X[0,:], X[1,:], label=\"original\")\n",
    "plt.scatter(X_EB[0,:], X_EB[1,:], label=\"transformiert\")\n",
    "plt.axhline(0, c=\"black\", ls=\":\")\n",
    "plt.legend()"
   ],
   "metadata": {
    "collapsed": false,
    "ExecuteTime": {
     "end_time": "2023-06-23T05:53:51.340582Z",
     "start_time": "2023-06-23T05:53:51.258883Z"
    }
   }
  },
  {
   "cell_type": "markdown",
   "source": [
    "Die Hauptvariationsachse ('1. Hauptkomponente') wurde auf die $x$-Achse gedreht!"
   ],
   "metadata": {
    "collapsed": false
   }
  },
  {
   "cell_type": "markdown",
   "source": [
    "#### (c) Genaugenommen müssen x und y vor der Bestimmung der Eigenvektoren noch standardisiert werden, indem der Mittelwert abgezogen und durch die Standardabweichung geteilt wird. Führen Sie diese Transformationen direkt auf X durch und untersuchen Sie den Unterschied in der graphischen Darstellung."
   ],
   "metadata": {
    "collapsed": false
   }
  },
  {
   "cell_type": "code",
   "execution_count": 50,
   "outputs": [
    {
     "data": {
      "text/plain": "(2, 20)"
     },
     "execution_count": 50,
     "metadata": {},
     "output_type": "execute_result"
    }
   ],
   "source": [
    "Xs = (X - np.mean(X, axis=1).reshape(-1,1)) / np.std(X, axis=1).reshape(-1,1)\n",
    "Xs.shape"
   ],
   "metadata": {
    "collapsed": false,
    "ExecuteTime": {
     "end_time": "2023-06-23T05:53:51.341179Z",
     "start_time": "2023-06-23T05:53:51.321742Z"
    }
   }
  },
  {
   "cell_type": "markdown",
   "source": [
    "# LE5 - Singulärwertzerlegung (SVD) mit Python\n",
    "\n",
    "<img src = \"https://raw.githubusercontent.com/ChristianHeeb/ala/main/Bilder/svd.jpg\" />"
   ],
   "metadata": {
    "collapsed": false
   }
  },
  {
   "cell_type": "code",
   "execution_count": null,
   "outputs": [],
   "source": [
    "#Pakete installieren\n",
    "\n",
    "#ImageOps zum Import und bearbeitung eines Bildes\n",
    "from PIL import Image, ImageOps\n",
    "import requests\n",
    "\n",
    "import numpy as np\n",
    "import matplotlib.pyplot as plt"
   ],
   "metadata": {
    "collapsed": false
   }
  },
  {
   "cell_type": "code",
   "execution_count": null,
   "outputs": [],
   "source": [
    "#Bild importieren\n",
    "url = \"https://img.freepik.com/fotos-kostenlos/weitwinkelaufnahme-eines-einzelnen-baumes-der-unter-einem-bewoelkten-himmel-waehrend-eines-sonnenuntergangs-waechst-der-durch-gras-umgeben-wird_181624-22807.jpg\"\n",
    "img = Image.open(requests.get(url, stream=True).raw)\n",
    "\n",
    "#Bild anzeigen\n",
    "plt.imshow(img)"
   ],
   "metadata": {
    "collapsed": false
   }
  },
  {
   "cell_type": "code",
   "execution_count": null,
   "outputs": [],
   "source": [
    "#Bild in Graustufe umwandeln (bei einem Farbigen Bild wird die Daraus erstellte Matrix ev. zu komplex)\n",
    "img = ImageOps.grayscale(img)\n",
    "#Bild in Matrix umwandeln\n",
    "img_matrix_data = np.asarray(img)\n",
    "\n",
    "print(img_matrix_data.shape)\n",
    "\n",
    "#Bild anzeigen\n",
    "plt.imshow(img_matrix_data, cmap=\"gray\")"
   ],
   "metadata": {
    "collapsed": false
   }
  },
  {
   "cell_type": "code",
   "execution_count": null,
   "outputs": [],
   "source": [
    "#SVD durchführen\n",
    "\n",
    "#Matrix \"img_matrix_data\" aufsplitten in Matrizen: U, Sigma und V-Transponiert\n",
    "U, S, V = np.linalg.svd(img_matrix_data)\n",
    "\n",
    "#Singulärwerte ausgeben\n",
    "print(S)"
   ],
   "metadata": {
    "collapsed": false
   }
  },
  {
   "cell_type": "code",
   "execution_count": null,
   "outputs": [],
   "source": [
    "#Bild erstellen welches aus den ersten 20 Singulärwerten besteht\n",
    "#Dazu müssen die Werte zuerst wieder in eine Matrix zurückgeformt werden\n",
    "data_20 = np.matrix(U[:, :20]) * np.diag(S[:20]) * np.matrix(V[:20, :])\n",
    "\n",
    "#Bild ausgeben\n",
    "plt.imshow(data_20, cmap=\"gray\")"
   ],
   "metadata": {
    "collapsed": false
   }
  },
  {
   "cell_type": "code",
   "execution_count": null,
   "outputs": [],
   "source": [
    "#Bild aus 2 Singulärwerten erstellen\n",
    "\n",
    "data_2 = np.matrix(U[:, :2]) * np.diag(S[:2]) * np.matrix(V[:2, :])\n",
    "\n",
    "#Bild ausgeben\n",
    "plt.imshow(data_2, cmap=\"gray\")"
   ],
   "metadata": {
    "collapsed": false
   }
  }
 ],
 "metadata": {
  "kernelspec": {
   "display_name": "Python 3 (ipykernel)",
   "language": "python",
   "name": "python3"
  },
  "language_info": {
   "codemirror_mode": {
    "name": "ipython",
    "version": 3
   },
   "file_extension": ".py",
   "mimetype": "text/x-python",
   "name": "python",
   "nbconvert_exporter": "python",
   "pygments_lexer": "ipython3",
   "version": "3.9.13"
  }
 },
 "nbformat": 4,
 "nbformat_minor": 4
}
