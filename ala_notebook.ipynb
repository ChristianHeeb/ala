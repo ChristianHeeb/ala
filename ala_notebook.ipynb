{
 "cells": [
  {
   "cell_type": "markdown",
   "metadata": {},
   "source": [
    "# LE1 - Eigenwerte und Eigenvektoren mit Python\n"
   ]
  },
  {
   "cell_type": "markdown",
   "metadata": {},
   "source": [
    "### Beispiel mit Sympy"
   ]
  },
  {
   "cell_type": "code",
   "execution_count": 29,
   "metadata": {
    "ExecuteTime": {
     "end_time": "2023-06-20T14:30:49.450206Z",
     "start_time": "2023-06-20T14:30:49.393059Z"
    },
    "collapsed": false,
    "jupyter": {
     "outputs_hidden": false
    }
   },
   "outputs": [],
   "source": [
    "import sympy as sp"
   ]
  },
  {
   "cell_type": "code",
   "execution_count": 30,
   "metadata": {
    "ExecuteTime": {
     "end_time": "2023-06-20T14:30:49.451059Z",
     "start_time": "2023-06-20T14:30:49.403591Z"
    },
    "collapsed": false,
    "jupyter": {
     "outputs_hidden": false
    }
   },
   "outputs": [
    {
     "data": {
      "text/latex": [
       "$\\displaystyle \\left[\\begin{matrix}2 & 0 & 0\\\\1 & 2 & 3\\\\1 & 0 & 5\\end{matrix}\\right]$"
      ],
      "text/plain": [
       "Matrix([\n",
       "[2, 0, 0],\n",
       "[1, 2, 3],\n",
       "[1, 0, 5]])"
      ]
     },
     "execution_count": 30,
     "metadata": {},
     "output_type": "execute_result"
    }
   ],
   "source": [
    "#Matrix A erstellen\n",
    "A = sp.Matrix([[2,0,0],[1,2,3], [1,0,5]])\n",
    "A"
   ]
  },
  {
   "cell_type": "code",
   "execution_count": 31,
   "metadata": {
    "ExecuteTime": {
     "end_time": "2023-06-20T14:30:49.451476Z",
     "start_time": "2023-06-20T14:30:49.407934Z"
    },
    "collapsed": false,
    "jupyter": {
     "outputs_hidden": false
    }
   },
   "outputs": [
    {
     "data": {
      "text/plain": [
       "{2: 2, 5: 1}"
      ]
     },
     "execution_count": 31,
     "metadata": {},
     "output_type": "execute_result"
    }
   ],
   "source": [
    "#Eigenwerte auslesen\n",
    "A.eigenvals()"
   ]
  },
  {
   "cell_type": "markdown",
   "metadata": {},
   "source": [
    "Sympy gibt zusätzlich zu den Eigenwerten auch die Algebraische Vielfachheit aus.\n",
    "2 hat eine Algebraische Vielfachheit von 2 und 5 hat die Algebraische Vielfachheit von 1\n"
   ]
  },
  {
   "cell_type": "markdown",
   "metadata": {},
   "source": [
    "Weitere Beispiele"
   ]
  },
  {
   "cell_type": "code",
   "execution_count": 32,
   "metadata": {
    "ExecuteTime": {
     "end_time": "2023-06-20T14:30:49.497346Z",
     "start_time": "2023-06-20T14:30:49.412498Z"
    },
    "collapsed": false,
    "jupyter": {
     "outputs_hidden": false
    }
   },
   "outputs": [
    {
     "data": {
      "text/plain": [
       "[(2,\n",
       "  2,\n",
       "  [Matrix([\n",
       "   [0],\n",
       "   [1],\n",
       "   [0]]),\n",
       "   Matrix([\n",
       "   [-3],\n",
       "   [ 0],\n",
       "   [ 1]])]),\n",
       " (5,\n",
       "  1,\n",
       "  [Matrix([\n",
       "   [0],\n",
       "   [1],\n",
       "   [1]])])]"
      ]
     },
     "execution_count": 32,
     "metadata": {},
     "output_type": "execute_result"
    }
   ],
   "source": [
    "#Eigenvektoren\n",
    "A.eigenvects()"
   ]
  },
  {
   "cell_type": "markdown",
   "metadata": {},
   "source": [
    "Für 2 gibt es 2 Eigenvektoren [0,1,0], [-3,0,1] und für 5 gibt es einen Eigenvektor [0,1,1]"
   ]
  },
  {
   "cell_type": "code",
   "execution_count": 33,
   "metadata": {
    "ExecuteTime": {
     "end_time": "2023-06-20T14:30:49.497703Z",
     "start_time": "2023-06-20T14:30:49.417319Z"
    },
    "collapsed": false,
    "jupyter": {
     "outputs_hidden": false
    }
   },
   "outputs": [
    {
     "data": {
      "text/latex": [
       "$\\displaystyle \\left[\\begin{matrix}0 & -3 & 0\\\\1 & 0 & 1\\\\0 & 1 & 1\\end{matrix}\\right]$"
      ],
      "text/plain": [
       "Matrix([\n",
       "[0, -3, 0],\n",
       "[1,  0, 1],\n",
       "[0,  1, 1]])"
      ]
     },
     "execution_count": 33,
     "metadata": {},
     "output_type": "execute_result"
    }
   ],
   "source": [
    "#Diagonalisierung\n",
    "V,D = A.diagonalize()\n",
    "V"
   ]
  },
  {
   "cell_type": "code",
   "execution_count": 34,
   "metadata": {
    "ExecuteTime": {
     "end_time": "2023-06-20T14:30:49.499792Z",
     "start_time": "2023-06-20T14:30:49.420711Z"
    },
    "collapsed": false,
    "jupyter": {
     "outputs_hidden": false
    }
   },
   "outputs": [
    {
     "data": {
      "text/latex": [
       "$\\displaystyle \\left[\\begin{matrix}2 & 0 & 0\\\\0 & 2 & 0\\\\0 & 0 & 5\\end{matrix}\\right]$"
      ],
      "text/plain": [
       "Matrix([\n",
       "[2, 0, 0],\n",
       "[0, 2, 0],\n",
       "[0, 0, 5]])"
      ]
     },
     "execution_count": 34,
     "metadata": {},
     "output_type": "execute_result"
    }
   ],
   "source": [
    "D"
   ]
  },
  {
   "cell_type": "markdown",
   "metadata": {},
   "source": [
    "Gibt Matrix V mit den Eigenvektoren und Matrix D mit den Eigenwerten auf der Diagonale angeordnet"
   ]
  },
  {
   "cell_type": "code",
   "execution_count": 35,
   "metadata": {
    "ExecuteTime": {
     "end_time": "2023-06-20T14:30:49.499942Z",
     "start_time": "2023-06-20T14:30:49.425002Z"
    },
    "collapsed": false,
    "jupyter": {
     "outputs_hidden": false
    }
   },
   "outputs": [
    {
     "data": {
      "text/latex": [
       "$\\displaystyle \\left[\\begin{matrix}- \\frac{1}{3} & 1 & -1\\\\- \\frac{1}{3} & 0 & 0\\\\\\frac{1}{3} & 0 & 1\\end{matrix}\\right]$"
      ],
      "text/plain": [
       "Matrix([\n",
       "[-1/3, 1, -1],\n",
       "[-1/3, 0,  0],\n",
       "[ 1/3, 0,  1]])"
      ]
     },
     "execution_count": 35,
     "metadata": {},
     "output_type": "execute_result"
    }
   ],
   "source": [
    "#Diagonalisierbarkeit prüfen mithilfe der Inverse\n",
    "V_inv = V.inv()\n",
    "V_inv"
   ]
  },
  {
   "cell_type": "code",
   "execution_count": 36,
   "metadata": {
    "ExecuteTime": {
     "end_time": "2023-06-20T14:30:49.500171Z",
     "start_time": "2023-06-20T14:30:49.428222Z"
    },
    "collapsed": false,
    "jupyter": {
     "outputs_hidden": false
    }
   },
   "outputs": [
    {
     "data": {
      "text/latex": [
       "$\\displaystyle \\left[\\begin{matrix}2 & 0 & 0\\\\0 & 2 & 0\\\\0 & 0 & 5\\end{matrix}\\right]$"
      ],
      "text/plain": [
       "Matrix([\n",
       "[2, 0, 0],\n",
       "[0, 2, 0],\n",
       "[0, 0, 5]])"
      ]
     },
     "execution_count": 36,
     "metadata": {},
     "output_type": "execute_result"
    }
   ],
   "source": [
    "#Matrix D erstellen (@ dient als Produktzeichen in Sympy)\n",
    "V_inv@A@V"
   ]
  },
  {
   "cell_type": "markdown",
   "metadata": {},
   "source": [
    "## Beispiel mit Numpy\n"
   ]
  },
  {
   "cell_type": "code",
   "execution_count": 2,
   "metadata": {
    "ExecuteTime": {
     "end_time": "2023-06-20T15:16:45.009234Z",
     "start_time": "2023-06-20T15:16:44.539682Z"
    },
    "collapsed": false,
    "jupyter": {
     "outputs_hidden": false
    }
   },
   "outputs": [],
   "source": [
    "import numpy as np\n",
    "from matplotlib import pyplot as plt\n"
   ]
  },
  {
   "cell_type": "code",
   "execution_count": 38,
   "metadata": {
    "ExecuteTime": {
     "end_time": "2023-06-20T14:30:49.516338Z",
     "start_time": "2023-06-20T14:30:49.433584Z"
    },
    "collapsed": false,
    "jupyter": {
     "outputs_hidden": false
    }
   },
   "outputs": [
    {
     "data": {
      "text/plain": [
       "array([[2, 0, 0],\n",
       "       [1, 2, 3],\n",
       "       [1, 0, 5]])"
      ]
     },
     "execution_count": 38,
     "metadata": {},
     "output_type": "execute_result"
    }
   ],
   "source": [
    "#Matrix A erstellen\n",
    "A = np.array([[2,0,0],[1,2,3],[1,0,5]])\n",
    "A"
   ]
  },
  {
   "cell_type": "code",
   "execution_count": 39,
   "metadata": {
    "ExecuteTime": {
     "end_time": "2023-06-20T14:30:49.516573Z",
     "start_time": "2023-06-20T14:30:49.437464Z"
    },
    "collapsed": false,
    "jupyter": {
     "outputs_hidden": false
    }
   },
   "outputs": [],
   "source": [
    "eVal, eVec = np.linalg.eig(A)"
   ]
  },
  {
   "cell_type": "code",
   "execution_count": 40,
   "metadata": {
    "ExecuteTime": {
     "end_time": "2023-06-20T14:30:49.517175Z",
     "start_time": "2023-06-20T14:30:49.440426Z"
    },
    "collapsed": false,
    "jupyter": {
     "outputs_hidden": false
    }
   },
   "outputs": [
    {
     "data": {
      "text/plain": [
       "array([2., 5., 2.])"
      ]
     },
     "execution_count": 40,
     "metadata": {},
     "output_type": "execute_result"
    }
   ],
   "source": [
    "#Eigenwerte auslesen\n",
    "eVal"
   ]
  },
  {
   "cell_type": "code",
   "execution_count": 41,
   "metadata": {
    "ExecuteTime": {
     "end_time": "2023-06-20T14:30:49.517613Z",
     "start_time": "2023-06-20T14:30:49.443111Z"
    },
    "collapsed": false,
    "jupyter": {
     "outputs_hidden": false
    }
   },
   "outputs": [
    {
     "data": {
      "text/plain": [
       "array([[ 0.        ,  0.        ,  0.94208241],\n",
       "       [ 1.        ,  0.70710678, -0.1177603 ],\n",
       "       [ 0.        ,  0.70710678, -0.31402747]])"
      ]
     },
     "execution_count": 41,
     "metadata": {},
     "output_type": "execute_result"
    }
   ],
   "source": [
    "#Eigenvektoren auslesen\n",
    "eVec"
   ]
  },
  {
   "cell_type": "markdown",
   "metadata": {},
   "source": [
    "## Übungen aus LE1"
   ]
  },
  {
   "cell_type": "markdown",
   "metadata": {},
   "source": [
    "### Aufgabe 15\n",
    "\n",
    "<img src=\"https://raw.githubusercontent.com/ChristianHeeb/ala/main/Bilder/Aufgabe15.jpg\"  width=\"1000\">"
   ]
  },
  {
   "cell_type": "markdown",
   "metadata": {},
   "source": [
    "#### (a) Berechnen Sie die Eigenvektoren und Eigenwerte von A und geben Sie sie aus."
   ]
  },
  {
   "cell_type": "code",
   "execution_count": 42,
   "metadata": {
    "ExecuteTime": {
     "end_time": "2023-06-20T14:30:49.519751Z",
     "start_time": "2023-06-20T14:30:49.446725Z"
    },
    "collapsed": false,
    "jupyter": {
     "outputs_hidden": false
    }
   },
   "outputs": [
    {
     "data": {
      "text/plain": [
       "array([[ 89,  75,  22, 102],\n",
       "       [ 75, 116,  27, 120],\n",
       "       [ 22,  27,  33,  62],\n",
       "       [102, 120,  62, 200]])"
      ]
     },
     "execution_count": 42,
     "metadata": {},
     "output_type": "execute_result"
    }
   ],
   "source": [
    "A = np.array([[89,75,22,102],[75,116,27,120],[22,27,33,62],[102,120,62,200]])\n",
    "A"
   ]
  },
  {
   "cell_type": "code",
   "execution_count": 43,
   "metadata": {
    "ExecuteTime": {
     "end_time": "2023-06-20T14:30:49.519954Z",
     "start_time": "2023-06-20T14:30:49.450361Z"
    },
    "collapsed": false,
    "jupyter": {
     "outputs_hidden": false
    }
   },
   "outputs": [],
   "source": [
    "# Eigenwerte\n",
    "ew, ev = np.linalg.eig(A)"
   ]
  },
  {
   "cell_type": "code",
   "execution_count": 44,
   "metadata": {
    "ExecuteTime": {
     "end_time": "2023-06-20T14:30:49.529369Z",
     "start_time": "2023-06-20T14:30:49.450539Z"
    },
    "collapsed": false,
    "jupyter": {
     "outputs_hidden": false
    }
   },
   "outputs": [
    {
     "data": {
      "text/plain": [
       "array([361.75382302,  42.74593101,  26.33718907,   7.16305691])"
      ]
     },
     "execution_count": 44,
     "metadata": {},
     "output_type": "execute_result"
    }
   ],
   "source": [
    "ew"
   ]
  },
  {
   "cell_type": "code",
   "execution_count": 45,
   "metadata": {
    "ExecuteTime": {
     "end_time": "2023-06-20T14:30:49.529681Z",
     "start_time": "2023-06-20T14:30:49.453410Z"
    },
    "collapsed": false,
    "jupyter": {
     "outputs_hidden": false
    }
   },
   "outputs": [
    {
     "data": {
      "text/plain": [
       "array([[-0.42552429, -0.42476765,  0.76464379, -0.23199439],\n",
       "       [-0.50507589, -0.54267519, -0.64193252, -0.19576676],\n",
       "       [-0.20612674,  0.54869183, -0.05515612, -0.80833585],\n",
       "       [-0.72203822,  0.4733005 ,  0.01415338,  0.50442752]])"
      ]
     },
     "execution_count": 45,
     "metadata": {},
     "output_type": "execute_result"
    }
   ],
   "source": [
    "ev"
   ]
  },
  {
   "cell_type": "markdown",
   "metadata": {},
   "source": [
    "#### (b) Zeigen Sie, dass die einzelnen Eigenvektoren orthogonal zueinander sind. Warum ist das so?"
   ]
  },
  {
   "cell_type": "code",
   "execution_count": 57,
   "metadata": {
    "ExecuteTime": {
     "end_time": "2023-06-20T14:32:47.437026Z",
     "start_time": "2023-06-20T14:32:47.430437Z"
    },
    "collapsed": false,
    "jupyter": {
     "outputs_hidden": false
    }
   },
   "outputs": [
    {
     "data": {
      "text/plain": [
       "array([[ 1., -0.],\n",
       "       [-0.,  1.]])"
      ]
     },
     "execution_count": 57,
     "metadata": {},
     "output_type": "execute_result"
    }
   ],
   "source": [
    "np.round(np.dot(ev.T, ev ), 10)"
   ]
  },
  {
   "cell_type": "markdown",
   "metadata": {},
   "source": [
    "Die Eigenvektoren stehen orthogonal zueinander, weil die Matrix A symmetrisch ist"
   ]
  },
  {
   "cell_type": "markdown",
   "metadata": {},
   "source": [
    "#### (c) Erstellen Sie eine Matrix V aus den Eigenvektoren von A und diagonalisieren Sie damit die Matrix A."
   ]
  },
  {
   "cell_type": "code",
   "execution_count": 47,
   "metadata": {
    "ExecuteTime": {
     "end_time": "2023-06-20T14:30:49.530213Z",
     "start_time": "2023-06-20T14:30:49.461540Z"
    },
    "collapsed": false,
    "jupyter": {
     "outputs_hidden": false
    }
   },
   "outputs": [
    {
     "data": {
      "text/plain": [
       "array([[361.7538,   0.    ,  -0.    ,   0.    ],\n",
       "       [  0.    ,  42.7459,   0.    ,   0.    ],\n",
       "       [  0.    ,  -0.    ,  26.3372,  -0.    ],\n",
       "       [  0.    ,   0.    ,  -0.    ,   7.1631]])"
      ]
     },
     "execution_count": 47,
     "metadata": {},
     "output_type": "execute_result"
    }
   ],
   "source": [
    "V = ev\n",
    "Vinv = np.linalg.inv(V)\n",
    "D = np.round( Vinv.dot(A).dot(V), decimals = 4)\n",
    "D"
   ]
  },
  {
   "cell_type": "markdown",
   "metadata": {},
   "source": [
    "#### (d) Berechnen Sie A20 1) indem Sie die Matrix 20x mit sich selbst multiplizieren und 2) indem Sie die bereits berechnete Diagonalmatrix D und die Matrizen V und V−1 benutzen. Welche Methode ist schneller? Wie schneidet np.linalg.matrix_power() im Vergleich dazu ab?"
   ]
  },
  {
   "cell_type": "code",
   "execution_count": 48,
   "metadata": {
    "ExecuteTime": {
     "end_time": "2023-06-20T14:30:49.530422Z",
     "start_time": "2023-06-20T14:30:49.467740Z"
    },
    "collapsed": false,
    "jupyter": {
     "outputs_hidden": false
    }
   },
   "outputs": [
    {
     "name": "stdout",
     "output_type": "stream",
     "text": [
      "time to compute [ms]: 6.861686706542969e-07\n"
     ]
    }
   ],
   "source": [
    "import time\n",
    "\n",
    "start = time.time()\n",
    "\n",
    "res = np.eye( A.shape[0] )\n",
    "for i in range(20):\n",
    "    res = res.dot(A)\n",
    "\n",
    "end = time.time()\n",
    "print(\"time to compute [ms]:\", ((end - start)/1000))"
   ]
  },
  {
   "cell_type": "markdown",
   "metadata": {},
   "source": [
    "\n",
    "### Aufgabe 16\n",
    "\n",
    "<img src=\"https://raw.githubusercontent.com/ChristianHeeb/ala/main/Bilder/Aufgabe16.jpg\"  width=\"1000\">"
   ]
  },
  {
   "cell_type": "markdown",
   "metadata": {},
   "source": [
    "#### (a) Speichern Sie die Messpunkte in einer Matrix X ∈ R2×20."
   ]
  },
  {
   "cell_type": "code",
   "execution_count": 58,
   "metadata": {
    "ExecuteTime": {
     "end_time": "2023-06-20T14:34:50.387360Z",
     "start_time": "2023-06-20T14:34:50.378961Z"
    },
    "collapsed": false,
    "jupyter": {
     "outputs_hidden": false
    }
   },
   "outputs": [
    {
     "data": {
      "text/plain": [
       "array([[ -2,  -4,  -6,   6,  -8,   6,   3,   6,   8,  -9,  -1,   1,   4,\n",
       "          2,   2,   2,  -1,  -1,   2,   2],\n",
       "       [ -3,  -7, -13,  16, -14,  14,   6,  11,  18, -19,   5,   0,   3,\n",
       "          3,   6,   8,  -3,  -1,   0,   9]])"
      ]
     },
     "execution_count": 58,
     "metadata": {},
     "output_type": "execute_result"
    }
   ],
   "source": [
    "X = np.array([[-2, -4, -6 , 6, -8, 6, 3, 6, 8, -9, -1, 1, 4, 2, 2, 2, -1, -1, 2, 2],\n",
    "              [-3, -7, -13, 16, -14, 14, 6, 11, 18, -19, 5, 0, 3, 3, 6, 8, -3, -1, 0, 9]])\n",
    "X"
   ]
  },
  {
   "cell_type": "markdown",
   "metadata": {},
   "source": [
    "#### (b) Stellen Sie die Messpunkte grafisch in einem zweidimensionalen Koordinatensystem dar. Sehen Sie einen Zusammenhang zwischen den Grössen x und  y ?\n"
   ]
  },
  {
   "cell_type": "code",
   "execution_count": 50,
   "metadata": {
    "ExecuteTime": {
     "end_time": "2023-06-20T14:30:49.604959Z",
     "start_time": "2023-06-20T14:30:49.477666Z"
    },
    "collapsed": false,
    "jupyter": {
     "outputs_hidden": false
    }
   },
   "outputs": [
    {
     "data": {
      "image/png": "[encoded data removed]",
      "text/plain": [
       "<Figure size 640x480 with 1 Axes>"
      ]
     },
     "metadata": {},
     "output_type": "display_data"
    }
   ],
   "source": [
    "plt.scatter(X[0,:], X[1,:])\n",
    "plt.xlabel(\"x\")\n",
    "plt.ylabel(\"y\")\n",
    "\n",
    "plt.show()\n"
   ]
  },
  {
   "cell_type": "markdown",
   "metadata": {},
   "source": [
    "#### (c) Berechnen Sie mit Numpy die Eigenvektoren v1 und v2 der Matrix XXT. Welche Eigenschaft bringt XXT automatisch mit sich mit?"
   ]
  },
  {
   "cell_type": "code",
   "execution_count": 51,
   "metadata": {
    "ExecuteTime": {
     "end_time": "2023-06-20T14:30:49.605456Z",
     "start_time": "2023-06-20T14:30:49.541421Z"
    },
    "collapsed": false,
    "jupyter": {
     "outputs_hidden": false
    }
   },
   "outputs": [
    {
     "data": {
      "text/latex": [
       "$\\displaystyle \\left[\\begin{matrix}422 & 866\\\\866 & 1951\\end{matrix}\\right]$"
      ],
      "text/plain": [
       "Matrix([\n",
       "[422,  866],\n",
       "[866, 1951]])"
      ]
     },
     "execution_count": 51,
     "metadata": {},
     "output_type": "execute_result"
    }
   ],
   "source": [
    "# Kreuzprodukt der zwei Matrizen X und X Transponierte (T) berechnen\n",
    "XXT = np.dot(X, X.T)\n",
    "sp.Matrix(XXT)"
   ]
  },
  {
   "cell_type": "code",
   "execution_count": 52,
   "metadata": {
    "ExecuteTime": {
     "end_time": "2023-06-20T14:30:49.605656Z",
     "start_time": "2023-06-20T14:30:49.546931Z"
    },
    "collapsed": false,
    "jupyter": {
     "outputs_hidden": false
    }
   },
   "outputs": [
    {
     "data": {
      "text/plain": [
       "array([  31.33064012, 2341.66935988])"
      ]
     },
     "execution_count": 52,
     "metadata": {},
     "output_type": "execute_result"
    }
   ],
   "source": [
    "# Berechnung der Eigenwerte und Eigenvektoren\n",
    "ew, ev = np.linalg.eig(XXT)\n",
    "\n",
    "# Eigenwerte ausgeben\n",
    "ew"
   ]
  },
  {
   "cell_type": "code",
   "execution_count": 53,
   "metadata": {
    "ExecuteTime": {
     "end_time": "2023-06-20T14:30:49.605788Z",
     "start_time": "2023-06-20T14:30:49.553660Z"
    },
    "collapsed": false,
    "jupyter": {
     "outputs_hidden": false
    }
   },
   "outputs": [
    {
     "data": {
      "text/plain": [
       "array([[-0.91153928, -0.41121301],\n",
       "       [ 0.41121301, -0.91153928]])"
      ]
     },
     "execution_count": 53,
     "metadata": {},
     "output_type": "execute_result"
    }
   ],
   "source": [
    "# Eigenvektoren ausgeben\n",
    "ev"
   ]
  },
  {
   "cell_type": "code",
   "execution_count": 54,
   "metadata": {
    "ExecuteTime": {
     "end_time": "2023-06-20T14:30:49.605911Z",
     "start_time": "2023-06-20T14:30:49.560855Z"
    },
    "collapsed": false,
    "jupyter": {
     "outputs_hidden": false
    }
   },
   "outputs": [
    {
     "data": {
      "text/latex": [
       "$\\displaystyle \\left[\\begin{matrix}-0.911539280492733\\\\0.411213010639001\\end{matrix}\\right]$"
      ],
      "text/plain": [
       "Matrix([\n",
       "[-0.911539280492733],\n",
       "[ 0.411213010639001]])"
      ]
     },
     "execution_count": 54,
     "metadata": {},
     "output_type": "execute_result"
    }
   ],
   "source": [
    "v1 = ev[:, 0]\n",
    "v2 = ev[:, 1]\n",
    "\n",
    "sp.Matrix(v1)"
   ]
  },
  {
   "cell_type": "code",
   "execution_count": 55,
   "metadata": {
    "ExecuteTime": {
     "end_time": "2023-06-20T14:30:49.606019Z",
     "start_time": "2023-06-20T14:30:49.567359Z"
    },
    "collapsed": false,
    "jupyter": {
     "outputs_hidden": false
    }
   },
   "outputs": [
    {
     "data": {
      "text/latex": [
       "$\\displaystyle \\left[\\begin{matrix}-0.411213010639001\\\\-0.911539280492733\\end{matrix}\\right]$"
      ],
      "text/plain": [
       "Matrix([\n",
       "[-0.411213010639001],\n",
       "[-0.911539280492733]])"
      ]
     },
     "execution_count": 55,
     "metadata": {},
     "output_type": "execute_result"
    }
   ],
   "source": [
    "sp.Matrix(v2)"
   ]
  },
  {
   "cell_type": "markdown",
   "metadata": {},
   "source": [
    "#### (d) Überlegen Sie, wie Sie die Eigenvektoren aus (c) geeignet in die graphische Darstellung aus (b) integrieren können. In welche besonderen Richtungen zeigen die zwei Eigenvektoren?"
   ]
  },
  {
   "cell_type": "code",
   "execution_count": 56,
   "metadata": {
    "ExecuteTime": {
     "end_time": "2023-06-20T14:30:49.655102Z",
     "start_time": "2023-06-20T14:30:49.571905Z"
    },
    "collapsed": false,
    "jupyter": {
     "outputs_hidden": false
    }
   },
   "outputs": [
    {
     "data": {
      "image/png": "[encoded data removed]",
      "text/plain": [
       "<Figure size 700x1000 with 1 Axes>"
      ]
     },
     "metadata": {},
     "output_type": "display_data"
    }
   ],
   "source": [
    "plt.figure(figsize=(7,10))\n",
    "plt.scatter(X[0,:], X[1,:])\n",
    "plt.xlabel(\"x\")\n",
    "plt.ylabel(\"y\")\n",
    "plt.quiver(0, 0, *v1, color=\"red\", scale=3, label=\"$\\lambda_1 = {:.3f}$\".format(ew[0]))\n",
    "plt.quiver(0, 0, *v2, color=\"green\", scale=3, label=\"$\\lambda_1 = {:.3f}$\".format(ew[1]))\n",
    "plt.legend()\n",
    "plt.gca().set_aspect(\"equal\")"
   ]
  },
  {
   "cell_type": "markdown",
   "metadata": {},
   "source": [
    "# LE2 - Vertiefung lineare Abbildungen"
   ]
  },
  {
   "cell_type": "markdown",
   "metadata": {},
   "source": [
    "## Übungen aus LE2"
   ]
  },
  {
   "cell_type": "markdown",
   "metadata": {},
   "source": [
    "### Aufgabe 14\n",
    "\n",
    "<img src=\"https://raw.githubusercontent.com/ChristianHeeb/ala/main/Bilder/2Aufgabe14.jpg\" width=\"1000\">"
   ]
  },
  {
   "cell_type": "markdown",
   "metadata": {},
   "source": [
    "#### (b) Gegeben seien nun die zwei Matrizen A und B. Finden Sie eine geeignete Funktion in Python (Numpy  hat  leider  keine), die e^A^ und e^B^ berechnet. Berechnen Sie auch e^A+B^, e^A^e^B^ und e^B^e^A^ und prüfen Sie damit empirisch Ihre Schlussfolgerung aus (a)."
   ]
  },
  {
   "cell_type": "code",
   "execution_count": 5,
   "metadata": {
    "ExecuteTime": {
     "end_time": "2023-06-20T15:18:00.797533Z",
     "start_time": "2023-06-20T15:18:00.743909Z"
    },
    "collapsed": false,
    "jupyter": {
     "outputs_hidden": false
    }
   },
   "outputs": [],
   "source": [
    "from scipy.linalg import expm\n",
    "\n",
    "A = np.array([[1,0],[1,-1]])\n",
    "B = np.array([[2,-1],[-2,3]])"
   ]
  },
  {
   "cell_type": "code",
   "execution_count": 21,
   "metadata": {
    "ExecuteTime": {
     "end_time": "2023-06-20T15:26:42.250659Z",
     "start_time": "2023-06-20T15:26:42.247522Z"
    },
    "collapsed": false,
    "jupyter": {
     "outputs_hidden": false
    }
   },
   "outputs": [
    {
     "data": {
      "text/plain": [
       "array([[ 21.87038921,  54.20388038],\n",
       "       [ 54.20388038, 184.48203036]])"
      ]
     },
     "execution_count": 21,
     "metadata": {},
     "output_type": "execute_result"
    }
   ],
   "source": [
    "expm( A + B )"
   ]
  },
  {
   "cell_type": "code",
   "execution_count": 20,
   "metadata": {
    "ExecuteTime": {
     "end_time": "2023-06-20T15:26:41.368713Z",
     "start_time": "2023-06-20T15:26:41.363496Z"
    },
    "collapsed": false,
    "jupyter": {
     "outputs_hidden": false
    }
   },
   "outputs": [
    {
     "data": {
      "text/plain": [
       "array([[ 21.87038921,  54.20388038],\n",
       "       [ 54.20388038, 184.48203036]])"
      ]
     },
     "execution_count": 20,
     "metadata": {},
     "output_type": "execute_result"
    }
   ],
   "source": [
    "expm( B + A )"
   ]
  },
  {
   "cell_type": "code",
   "execution_count": 19,
   "metadata": {
    "ExecuteTime": {
     "end_time": "2023-06-20T15:26:40.550718Z",
     "start_time": "2023-06-20T15:26:40.545741Z"
    },
    "collapsed": false,
    "jupyter": {
     "outputs_hidden": false
    }
   },
   "outputs": [
    {
     "data": {
      "text/plain": [
       "array([[-114.30922365,  465.16496666],\n",
       "       [-124.60475647,  497.467592  ]])"
      ]
     },
     "execution_count": 19,
     "metadata": {},
     "output_type": "execute_result"
    }
   ],
   "source": [
    "expm(A) @ expm(B)"
   ]
  },
  {
   "cell_type": "code",
   "execution_count": 18,
   "metadata": {
    "ExecuteTime": {
     "end_time": "2023-06-20T15:26:39.069038Z",
     "start_time": "2023-06-20T15:26:39.058420Z"
    },
    "collapsed": false,
    "jupyter": {
     "outputs_hidden": false
    }
   },
   "outputs": [
    {
     "data": {
      "text/plain": [
       "array([[-114.30922365, -124.60475647],\n",
       "       [ 465.16496666,  497.467592  ]])"
      ]
     },
     "execution_count": 18,
     "metadata": {},
     "output_type": "execute_result"
    }
   ],
   "source": [
    "expm(B) @ expm(A)"
   ]
  },
  {
   "cell_type": "markdown",
   "metadata": {},
   "source": [
    "Es gilt nicht $e^{A+B} = e^A \\, e^B$."
   ]
  },
  {
   "cell_type": "markdown",
   "metadata": {},
   "source": [
    "#### (d) Prüfen Sie mit den Matrizen  A  und  B,  ob  der  Zusammenhang  det(e^A^)  =  e^spur(A)^  dafür  gilt."
   ]
  },
  {
   "cell_type": "code",
   "execution_count": 14,
   "metadata": {
    "ExecuteTime": {
     "end_time": "2023-06-20T15:24:48.426660Z",
     "start_time": "2023-06-20T15:24:48.422774Z"
    },
    "collapsed": false,
    "jupyter": {
     "outputs_hidden": false
    }
   },
   "outputs": [
    {
     "data": {
      "text/plain": [
       "7.389056098930664"
      ]
     },
     "execution_count": 14,
     "metadata": {},
     "output_type": "execute_result"
    }
   ],
   "source": [
    "np.linalg.det(expm(A))"
   ]
  },
  {
   "cell_type": "code",
   "execution_count": 15,
   "metadata": {
    "ExecuteTime": {
     "end_time": "2023-06-20T15:24:49.439388Z",
     "start_time": "2023-06-20T15:24:49.435662Z"
    },
    "collapsed": false,
    "jupyter": {
     "outputs_hidden": false
    }
   },
   "outputs": [
    {
     "data": {
      "text/plain": [
       "7.38905609893065"
      ]
     },
     "execution_count": 15,
     "metadata": {},
     "output_type": "execute_result"
    }
   ],
   "source": [
    "np.exp(np.trace(A))"
   ]
  },
  {
   "cell_type": "code",
   "execution_count": 16,
   "metadata": {
    "ExecuteTime": {
     "end_time": "2023-06-20T15:24:50.288235Z",
     "start_time": "2023-06-20T15:24:50.283990Z"
    },
    "collapsed": false,
    "jupyter": {
     "outputs_hidden": false
    }
   },
   "outputs": [
    {
     "data": {
      "text/plain": [
       "148.4131591025766"
      ]
     },
     "execution_count": 16,
     "metadata": {},
     "output_type": "execute_result"
    }
   ],
   "source": [
    "np.linalg.det(expm(B))"
   ]
  },
  {
   "cell_type": "markdown",
   "metadata": {},
   "source": []
  },
  {
   "cell_type": "code",
   "execution_count": 17,
   "metadata": {
    "ExecuteTime": {
     "end_time": "2023-06-20T15:24:53.129885Z",
     "start_time": "2023-06-20T15:24:53.126942Z"
    },
    "collapsed": false,
    "jupyter": {
     "outputs_hidden": false
    }
   },
   "outputs": [
    {
     "data": {
      "text/plain": [
       "148.4131591025766"
      ]
     },
     "execution_count": 17,
     "metadata": {},
     "output_type": "execute_result"
    }
   ],
   "source": [
    "np.exp(np.trace(B))"
   ]
  },
  {
   "cell_type": "markdown",
   "metadata": {},
   "source": [
    "### Aufgabe 17\n",
    "\n",
    "<img src=\"https://raw.githubusercontent.com/ChristianHeeb/ala/main/Bilder/2Aufgabe17.jpg\" width=\"1000\">"
   ]
  },
  {
   "cell_type": "code",
   "execution_count": 10,
   "metadata": {
    "ExecuteTime": {
     "end_time": "2023-06-20T15:19:52.009272Z",
     "start_time": "2023-06-20T15:19:52.002889Z"
    },
    "collapsed": false,
    "jupyter": {
     "outputs_hidden": false
    }
   },
   "outputs": [
    {
     "data": {
      "text/plain": [
       "False"
      ]
     },
     "execution_count": 10,
     "metadata": {},
     "output_type": "execute_result"
    }
   ],
   "source": [
    "def positiv_definit(A):\n",
    "    eigvals = np.linalg.eigvals(A)\n",
    "    return np.all(eigvals > 0)\n",
    "\n",
    "\n",
    "A = np.array([[1, 2], [2, 1]])\n",
    "positiv_definit(A)"
   ]
  },
  {
   "cell_type": "code",
   "execution_count": 11,
   "metadata": {
    "ExecuteTime": {
     "end_time": "2023-06-20T15:19:53.036665Z",
     "start_time": "2023-06-20T15:19:53.033325Z"
    },
    "collapsed": false,
    "jupyter": {
     "outputs_hidden": false
    }
   },
   "outputs": [
    {
     "data": {
      "text/plain": [
       "True"
      ]
     },
     "execution_count": 11,
     "metadata": {},
     "output_type": "execute_result"
    }
   ],
   "source": [
    "B = np.array([[1, -1], [-1, 4]])\n",
    "positiv_definit(B)"
   ]
  },
  {
   "cell_type": "code",
   "execution_count": 12,
   "metadata": {
    "ExecuteTime": {
     "end_time": "2023-06-20T15:19:54.659367Z",
     "start_time": "2023-06-20T15:19:54.657212Z"
    },
    "collapsed": false,
    "jupyter": {
     "outputs_hidden": false
    }
   },
   "outputs": [
    {
     "data": {
      "text/plain": [
       "False"
      ]
     },
     "execution_count": 12,
     "metadata": {},
     "output_type": "execute_result"
    }
   ],
   "source": [
    "C = np.array([[1, 0, 0], [0, 1, 1], [0, 1, 1]])\n",
    "positiv_definit(C)"
   ]
  },
  {
   "cell_type": "code",
   "execution_count": 13,
   "metadata": {
    "ExecuteTime": {
     "end_time": "2023-06-20T15:19:55.774333Z",
     "start_time": "2023-06-20T15:19:55.759914Z"
    },
    "collapsed": false,
    "jupyter": {
     "outputs_hidden": false
    }
   },
   "outputs": [
    {
     "data": {
      "text/plain": [
       "True"
      ]
     },
     "execution_count": 13,
     "metadata": {},
     "output_type": "execute_result"
    }
   ],
   "source": [
    "D = np.array([[2, -1, 0], [-1, 2, -1], [0, -1, 2]])\n",
    "positiv_definit(D)"
   ]
  },
  {
   "cell_type": "markdown",
   "metadata": {},
   "source": [
    "# LE3 - Basistransformationen\n",
    "\n",
    "## Übungen aus LE3"
   ]
  },
  {
   "cell_type": "markdown",
   "metadata": {},
   "source": [
    "### Aufgabe 8\n",
    "\n",
    "<img src=\"https://raw.githubusercontent.com/ChristianHeeb/ala/main/Bilder/3Aufgabe8.jpg\" size = 1000>"
   ]
  },
  {
   "cell_type": "markdown",
   "metadata": {},
   "source": [
    "#### (a) Erstellen  Sie  aus  diesen  Eigenvektoren  eine  Basistransformation  T  €  IR2*2,  die  in  die Eigenbasis von XX7 transformiert."
   ]
  },
  {
   "cell_type": "code",
   "execution_count": 22,
   "metadata": {
    "ExecuteTime": {
     "end_time": "2023-06-20T15:34:05.246205Z",
     "start_time": "2023-06-20T15:34:05.225211Z"
    },
    "collapsed": false,
    "jupyter": {
     "outputs_hidden": false
    }
   },
   "outputs": [],
   "source": [
    "X = np.array([\n",
    "    [-2, -4, -6, 6, -8, 6, 3, 6, 8, -9, -1, 1, 4, 2, 2, 2, -1, -1, 2, 2],\n",
    "    [ -3, -7, -13, 16, -14, 14, 6, 11, 18, -19, 5, 0, 3, 3, 6, 8, -3, -1, 0, 9]\n",
    "])\n",
    "\n",
    "XXT = np.dot(X, X.T)\n",
    "ew, ev = np.linalg.eig( XXT)\n",
    "\n",
    "v1 = ev[:,0]\n",
    "v2 = ev[:,1]"
   ]
  },
  {
   "cell_type": "markdown",
   "metadata": {},
   "source": [
    "Eigenwerte nach Grösse sortieren"
   ]
  },
  {
   "cell_type": "code",
   "execution_count": 25,
   "metadata": {
    "ExecuteTime": {
     "end_time": "2023-06-20T15:36:42.205450Z",
     "start_time": "2023-06-20T15:36:42.201884Z"
    },
    "collapsed": false,
    "jupyter": {
     "outputs_hidden": false
    }
   },
   "outputs": [],
   "source": [
    "sorting = np.argsort(ew)[::-1]\n",
    "v1 = ev[:,sorting][:,0]\n",
    "v2 = ev[:,sorting][:,1]\n",
    "lambda1 = ew[sorting][0]\n",
    "lambda2 = ew[sorting][1]"
   ]
  },
  {
   "cell_type": "markdown",
   "metadata": {},
   "source": [
    "Basistransformation:"
   ]
  },
  {
   "cell_type": "code",
   "execution_count": 26,
   "metadata": {
    "ExecuteTime": {
     "end_time": "2023-06-20T15:36:43.113860Z",
     "start_time": "2023-06-20T15:36:43.109398Z"
    },
    "collapsed": false,
    "jupyter": {
     "outputs_hidden": false
    }
   },
   "outputs": [
    {
     "data": {
      "text/plain": [
       "array([[-0.41121301, -0.91153928],\n",
       "       [-0.91153928,  0.41121301]])"
      ]
     },
     "execution_count": 26,
     "metadata": {},
     "output_type": "execute_result"
    }
   ],
   "source": [
    "T = ev[:,sorting]\n",
    "T"
   ]
  },
  {
   "cell_type": "markdown",
   "metadata": {},
   "source": [
    "$T^{-1}$ sollte $\\mathbf{v}_1$ auf $\\mathbf{e}_1$ und $\\mathbf{v}_2$ auf $\\mathbf{e}_2$ abbilden:"
   ]
  },
  {
   "cell_type": "code",
   "execution_count": 27,
   "metadata": {
    "ExecuteTime": {
     "end_time": "2023-06-20T15:37:02.695532Z",
     "start_time": "2023-06-20T15:37:02.682002Z"
    },
    "collapsed": false,
    "jupyter": {
     "outputs_hidden": false
    }
   },
   "outputs": [
    {
     "data": {
      "text/plain": [
       "array([[ 1., -0.],\n",
       "       [-0.,  1.]])"
      ]
     },
     "execution_count": 27,
     "metadata": {},
     "output_type": "execute_result"
    }
   ],
   "source": [
    "np.round( np.linalg.inv(T).dot(ev[:,sorting]),10 )"
   ]
  },
  {
   "cell_type": "markdown",
   "metadata": {},
   "source": [
    "T ist übrigens orthogonal:\n"
   ]
  },
  {
   "cell_type": "code",
   "execution_count": 28,
   "metadata": {
    "ExecuteTime": {
     "end_time": "2023-06-20T15:37:19.899330Z",
     "start_time": "2023-06-20T15:37:19.886122Z"
    },
    "collapsed": false,
    "jupyter": {
     "outputs_hidden": false
    }
   },
   "outputs": [
    {
     "data": {
      "text/plain": [
       "array([[ 1., -0.],\n",
       "       [-0.,  1.]])"
      ]
     },
     "execution_count": 28,
     "metadata": {},
     "output_type": "execute_result"
    }
   ],
   "source": [
    "np.round( T.dot(T.T), 10 )"
   ]
  },
  {
   "cell_type": "markdown",
   "metadata": {},
   "source": [
    "und damit gilt $T^{-1} = T^T$."
   ]
  },
  {
   "cell_type": "code",
   "execution_count": null,
   "metadata": {
    "collapsed": false,
    "jupyter": {
     "outputs_hidden": false
    }
   },
   "outputs": [],
   "source": []
  }
 ],
 "metadata": {
  "kernelspec": {
   "display_name": "Python 3 (ipykernel)",
   "language": "python",
   "name": "python3"
  },
  "language_info": {
   "codemirror_mode": {
    "name": "ipython",
    "version": 3
   },
   "file_extension": ".py",
   "mimetype": "text/x-python",
   "name": "python",
   "nbconvert_exporter": "python",
   "pygments_lexer": "ipython3",
   "version": "3.9.13"
  }
 },
 "nbformat": 4,
 "nbformat_minor": 4
}
